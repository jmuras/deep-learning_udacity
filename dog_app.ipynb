{
 "cells": [
  {
   "cell_type": "markdown",
   "metadata": {
    "colab_type": "text",
    "id": "SsosivsrRKdx"
   },
   "source": [
    "# Convolutional Neural Networks\n",
    "\n",
    "## Project: Write an Algorithm for a Dog Identification App \n",
    "\n",
    "---\n",
    "\n",
    "In this notebook, some template code has already been provided for you, and you will need to implement additional functionality to successfully complete this project. You will not need to modify the included code beyond what is requested. Sections that begin with **'(IMPLEMENTATION)'** in the header indicate that the following block of code will require additional functionality which you must provide. Instructions will be provided for each section, and the specifics of the implementation are marked in the code block with a 'TODO' statement. Please be sure to read the instructions carefully! \n",
    "\n",
    "> **Note**: Once you have completed all of the code implementations, you need to finalize your work by exporting the Jupyter Notebook as an HTML document. Before exporting the notebook to html, all of the code cells need to have been run so that reviewers can see the final implementation and output. You can then export the notebook by using the menu above and navigating to **File -> Download as -> HTML (.html)**. Include the finished document along with this notebook as your submission.\n",
    "\n",
    "In addition to implementing code, there will be questions that you must answer which relate to the project and your implementation. Each section where you will answer a question is preceded by a **'Question X'** header. Carefully read each question and provide thorough answers in the following text boxes that begin with **'Answer:'**. Your project submission will be evaluated based on your answers to each of the questions and the implementation you provide.\n",
    "\n",
    ">**Note:** Code and Markdown cells can be executed using the **Shift + Enter** keyboard shortcut.  Markdown cells can be edited by double-clicking the cell to enter edit mode.\n",
    "\n",
    "The rubric contains _optional_ \"Stand Out Suggestions\" for enhancing the project beyond the minimum requirements. If you decide to pursue the \"Stand Out Suggestions\", you should include the code in this Jupyter notebook.\n",
    "\n",
    "\n",
    "\n",
    "---\n",
    "### Why We're Here \n",
    "\n",
    "In this notebook, you will make the first steps towards developing an algorithm that could be used as part of a mobile or web app.  At the end of this project, your code will accept any user-supplied image as input.  If a dog is detected in the image, it will provide an estimate of the dog's breed.  If a human is detected, it will provide an estimate of the dog breed that is most resembling.  The image below displays potential sample output of your finished project (... but we expect that each student's algorithm will behave differently!). \n",
    "\n",
    "![Sample Dog Output](images/sample_dog_output.png)\n",
    "\n",
    "In this real-world setting, you will need to piece together a series of models to perform different tasks; for instance, the algorithm that detects humans in an image will be different from the CNN that infers dog breed.  There are many points of possible failure, and no perfect algorithm exists.  Your imperfect solution will nonetheless create a fun user experience!\n",
    "\n",
    "### The Road Ahead\n",
    "\n",
    "We break the notebook into separate steps.  Feel free to use the links below to navigate the notebook.\n",
    "\n",
    "* [Step 0](#step0): Import Datasets\n",
    "* [Step 1](#step1): Detect Humans\n",
    "* [Step 2](#step2): Detect Dogs\n",
    "* [Step 3](#step3): Create a CNN to Classify Dog Breeds (from Scratch)\n",
    "* [Step 4](#step4): Create a CNN to Classify Dog Breeds (using Transfer Learning)\n",
    "* [Step 5](#step5): Write your Algorithm\n",
    "* [Step 6](#step6): Test Your Algorithm\n",
    "\n",
    "---\n",
    "<a id='step0'></a>\n",
    "## Step 0: Import Datasets\n",
    "\n",
    "Make sure that you've downloaded the required human and dog datasets:\n",
    "* Download the [dog dataset](https://s3-us-west-1.amazonaws.com/udacity-aind/dog-project/dogImages.zip).  Unzip the folder and place it in this project's home directory, at the location `/dogImages`. \n",
    "\n",
    "* Download the [human dataset](https://s3-us-west-1.amazonaws.com/udacity-aind/dog-project/lfw.zip).  Unzip the folder and place it in the home directory, at location `/lfw`.  \n",
    "\n",
    "*Note: If you are using a Windows machine, you are encouraged to use [7zip](http://www.7-zip.org/) to extract the folder.*\n",
    "\n",
    "In the code cell below, we save the file paths for both the human (LFW) dataset and dog dataset in the numpy arrays `human_files` and `dog_files`."
   ]
  },
  {
   "cell_type": "code",
   "execution_count": 26,
   "metadata": {
    "colab": {
     "base_uri": "https://localhost:8080/",
     "height": 50
    },
    "colab_type": "code",
    "executionInfo": {
     "elapsed": 303284,
     "status": "ok",
     "timestamp": 1579814046891,
     "user": {
      "displayName": "Joanna Muras",
      "photoUrl": "",
      "userId": "08900016511846412259"
     },
     "user_tz": -60
    },
    "id": "PnSPoKv6RKeC",
    "outputId": "32223128-ef1f-4b95-bb56-ed50a5fe9fe4"
   },
   "outputs": [
    {
     "name": "stdout",
     "output_type": "stream",
     "text": [
      "There are 7653 total human images.\n",
      "There are 8351 total dog images.\n"
     ]
    }
   ],
   "source": [
    "import numpy as np\n",
    "from glob import glob\n",
    "\n",
    "# load filenames for human and dog images\n",
    "human_files = np.array(glob(\"/content/drive/My Drive/Colab Notebooks/data/lfw/*/*\"))\n",
    "dog_files = np.array(glob(\"/content/drive/My Drive/Colab Notebooks/data/dogImages/*/*/*\"))\n",
    "\n",
    "# print number of images in each dataset\n",
    "print('There are %d total human images.' % len(human_files))\n",
    "print('There are %d total dog images.' % len(dog_files))"
   ]
  },
  {
   "cell_type": "markdown",
   "metadata": {
    "colab_type": "text",
    "id": "he43KSgcRKeM"
   },
   "source": [
    "<a id='step1'></a>\n",
    "## Step 1: Detect Humans\n",
    "\n",
    "In this section, we use OpenCV's implementation of [Haar feature-based cascade classifiers](http://docs.opencv.org/trunk/d7/d8b/tutorial_py_face_detection.html) to detect human faces in images.  \n",
    "\n",
    "OpenCV provides many pre-trained face detectors, stored as XML files on [github](https://github.com/opencv/opencv/tree/master/data/haarcascades).  We have downloaded one of these detectors and stored it in the `haarcascades` directory.  In the next code cell, we demonstrate how to use this detector to find human faces in a sample image."
   ]
  },
  {
   "cell_type": "code",
   "execution_count": 41,
   "metadata": {
    "colab": {
     "base_uri": "https://localhost:8080/",
     "height": 286
    },
    "colab_type": "code",
    "executionInfo": {
     "elapsed": 3853,
     "status": "ok",
     "timestamp": 1579815017229,
     "user": {
      "displayName": "Joanna Muras",
      "photoUrl": "",
      "userId": "08900016511846412259"
     },
     "user_tz": -60
    },
    "id": "XDlAG9oRRKeP",
    "outputId": "2f1f8c53-f02a-4435-f0d5-bafdb03ba680"
   },
   "outputs": [
    {
     "name": "stdout",
     "output_type": "stream",
     "text": [
      "Number of faces detected: 1\n"
     ]
    },
    {
     "data": {
      "image/png": "[encoded data removed]",
      "text/plain": [
       "<Figure size 432x288 with 1 Axes>"
      ]
     },
     "metadata": {
      "tags": []
     },
     "output_type": "display_data"
    }
   ],
   "source": [
    "import cv2                \n",
    "import matplotlib.pyplot as plt                        \n",
    "%matplotlib inline  \n",
    "\n",
    "# extract pre-trained face detector\n",
    "face_cascade = cv2.CascadeClassifier('/content/drive/My Drive/Colab Notebooks/data/haarcascades/haarcascade_frontalface_alt.xml')\n",
    "\n",
    "# load color (BGR) image\n",
    "img = cv2.imread(human_files[0])\n",
    "# convert BGR image to grayscale\n",
    "gray = cv2.cvtColor(img, cv2.COLOR_BGR2GRAY)\n",
    "\n",
    "# find faces in image\n",
    "faces = face_cascade.detectMultiScale(gray)\n",
    "\n",
    "# print number of faces detected in the image\n",
    "print('Number of faces detected:', len(faces))\n",
    "\n",
    "# get bounding box for each detected face\n",
    "for (x,y,w,h) in faces:\n",
    "    # add bounding box to color image\n",
    "    cv2.rectangle(img,(x,y),(x+w,y+h),(255,0,0),2)\n",
    "    \n",
    "# convert BGR image to RGB for plotting\n",
    "cv_rgb = cv2.cvtColor(img, cv2.COLOR_BGR2RGB)\n",
    "\n",
    "# display the image, along with bounding box\n",
    "plt.imshow(cv_rgb)\n",
    "plt.show()"
   ]
  },
  {
   "cell_type": "markdown",
   "metadata": {
    "colab_type": "text",
    "id": "1MVVKKFLRKes"
   },
   "source": [
    "Before using any of the face detectors, it is standard procedure to convert the images to grayscale.  The `detectMultiScale` function executes the classifier stored in `face_cascade` and takes the grayscale image as a parameter.  \n",
    "\n",
    "In the above code, `faces` is a numpy array of detected faces, where each row corresponds to a detected face.  Each detected face is a 1D array with four entries that specifies the bounding box of the detected face.  The first two entries in the array (extracted in the above code as `x` and `y`) specify the horizontal and vertical positions of the top left corner of the bounding box.  The last two entries in the array (extracted here as `w` and `h`) specify the width and height of the box.\n",
    "\n",
    "### Write a Human Face Detector\n",
    "\n",
    "We can use this procedure to write a function that returns `True` if a human face is detected in an image and `False` otherwise.  This function, aptly named `face_detector`, takes a string-valued file path to an image as input and appears in the code block below."
   ]
  },
  {
   "cell_type": "code",
   "execution_count": 0,
   "metadata": {
    "colab": {},
    "colab_type": "code",
    "id": "HSIJKTj3RKeu"
   },
   "outputs": [],
   "source": [
    "# returns \"True\" if face is detected in image stored at img_path\n",
    "def face_detector(img_path):\n",
    "    img = cv2.imread(img_path)\n",
    "    gray = cv2.cvtColor(img, cv2.COLOR_BGR2GRAY)\n",
    "    faces = face_cascade.detectMultiScale(gray)\n",
    "    return len(faces) > 0"
   ]
  },
  {
   "cell_type": "markdown",
   "metadata": {
    "colab_type": "text",
    "id": "09uazxykRKey"
   },
   "source": [
    "### (IMPLEMENTATION) Assess the Human Face Detector\n",
    "\n",
    "__Question 1:__ Use the code cell below to test the performance of the `face_detector` function.  \n",
    "- What percentage of the first 100 images in `human_files` have a detected human face?  \n",
    "- What percentage of the first 100 images in `dog_files` have a detected human face? \n",
    "\n",
    "Ideally, we would like 100% of human images with a detected face and 0% of dog images with a detected face.  You will see that our algorithm falls short of this goal, but still gives acceptable performance.  We extract the file paths for the first 100 images from each of the datasets and store them in the numpy arrays `human_files_short` and `dog_files_short`."
   ]
  },
  {
   "cell_type": "markdown",
   "metadata": {
    "colab_type": "text",
    "id": "uUnNe34PRKez"
   },
   "source": [
    "__Answer:__ \n",
    "The algorithm detected human face for 98% images of humans and 7% images of dogs."
   ]
  },
  {
   "cell_type": "code",
   "execution_count": 14,
   "metadata": {
    "colab": {
     "base_uri": "https://localhost:8080/",
     "height": 34
    },
    "colab_type": "code",
    "executionInfo": {
     "elapsed": 92393,
     "status": "ok",
     "timestamp": 1579517385356,
     "user": {
      "displayName": "Joanna Muras",
      "photoUrl": "",
      "userId": "08900016511846412259"
     },
     "user_tz": -60
    },
    "id": "TM4fg8j_RKe5",
    "outputId": "df31bdb4-2f5f-410e-ec53-18a727041bca"
   },
   "outputs": [
    {
     "name": "stdout",
     "output_type": "stream",
     "text": [
      "The algorithm detected human face for 98% images of humans and 7% images of dogs.\n"
     ]
    }
   ],
   "source": [
    "from tqdm import tqdm\n",
    "import collections\n",
    "\n",
    "human_files_short = human_files[:100]\n",
    "dog_files_short = dog_files[:100]\n",
    "\n",
    "#-#-# Do NOT modify the code above this line. #-#-#\n",
    "\n",
    "## TODO: Test the performance of the face_detector algorithm \n",
    "## on the images in human_files_short and dog_files_short.\n",
    "\n",
    "counter = collections.Counter()\n",
    "\n",
    "for path in human_files_short:\n",
    "    if face_detector(path):\n",
    "        counter[\"human\"] += 1\n",
    "        \n",
    "for path in dog_files_short:\n",
    "    if face_detector(path):\n",
    "        counter[\"dog\"] += 1\n",
    "        \n",
    "print(\"The algorithm detected human face for {0}% images of humans and {1}% images of dogs.\".format(counter[\"human\"], counter[\"dog\"]))"
   ]
  },
  {
   "cell_type": "markdown",
   "metadata": {
    "colab_type": "text",
    "id": "HsswRNW7RKe-"
   },
   "source": [
    "We suggest the face detector from OpenCV as a potential way to detect human images in your algorithm, but you are free to explore other approaches, especially approaches that make use of deep learning :).  Please use the code cell below to design and test your own face detection algorithm.  If you decide to pursue this _optional_ task, report performance on `human_files_short` and `dog_files_short`."
   ]
  },
  {
   "cell_type": "code",
   "execution_count": 0,
   "metadata": {
    "colab": {},
    "colab_type": "code",
    "id": "ot_4QgEgRKfA"
   },
   "outputs": [],
   "source": [
    "### (Optional) \n",
    "### TODO: Test performance of another face detection algorithm.\n",
    "### Feel free to use as many code cells as needed."
   ]
  },
  {
   "cell_type": "markdown",
   "metadata": {
    "colab_type": "text",
    "id": "r21WD-BXRKfE"
   },
   "source": [
    "---\n",
    "<a id='step2'></a>\n",
    "## Step 2: Detect Dogs\n",
    "\n",
    "In this section, we use a [pre-trained model](http://pytorch.org/docs/master/torchvision/models.html) to detect dogs in images.  \n",
    "\n",
    "### Obtain Pre-trained VGG-16 Model\n",
    "\n",
    "The code cell below downloads the VGG-16 model, along with weights that have been trained on [ImageNet](http://www.image-net.org/), a very large, very popular dataset used for image classification and other vision tasks.  ImageNet contains over 10 million URLs, each linking to an image containing an object from one of [1000 categories](https://gist.github.com/yrevar/942d3a0ac09ec9e5eb3a).  "
   ]
  },
  {
   "cell_type": "code",
   "execution_count": 0,
   "metadata": {
    "colab": {},
    "colab_type": "code",
    "id": "-YkSUc-3RKfF"
   },
   "outputs": [],
   "source": [
    "import torch\n",
    "import torchvision.models as models\n",
    "\n",
    "# define VGG16 model\n",
    "VGG16 = models.vgg16(pretrained=True)\n",
    "\n",
    "# check if CUDA is available\n",
    "use_cuda = torch.cuda.is_available()\n",
    "\n",
    "# move model to GPU if CUDA is available\n",
    "if use_cuda:\n",
    "    VGG16 = VGG16.cuda()"
   ]
  },
  {
   "cell_type": "markdown",
   "metadata": {
    "colab_type": "text",
    "id": "uR7qPd3xRKfJ"
   },
   "source": [
    "Given an image, this pre-trained VGG-16 model returns a prediction (derived from the 1000 possible categories in ImageNet) for the object that is contained in the image."
   ]
  },
  {
   "cell_type": "markdown",
   "metadata": {
    "colab_type": "text",
    "id": "HkTJHWHWRKfL"
   },
   "source": [
    "### (IMPLEMENTATION) Making Predictions with a Pre-trained Model\n",
    "\n",
    "In the next code cell, you will write a function that accepts a path to an image (such as `'dogImages/train/001.Affenpinscher/Affenpinscher_00001.jpg'`) as input and returns the index corresponding to the ImageNet class that is predicted by the pre-trained VGG-16 model.  The output should always be an integer between 0 and 999, inclusive.\n",
    "\n",
    "Before writing the function, make sure that you take the time to learn  how to appropriately pre-process tensors for pre-trained models in the [PyTorch documentation](http://pytorch.org/docs/stable/torchvision/models.html)."
   ]
  },
  {
   "cell_type": "code",
   "execution_count": 0,
   "metadata": {
    "colab": {},
    "colab_type": "code",
    "id": "LLz74G6dRKfM"
   },
   "outputs": [],
   "source": [
    "from PIL import Image\n",
    "import torchvision.transforms as transforms\n",
    "from torch.autograd import Variable\n",
    "\n",
    "# Set PIL to be tolerant of image files that are truncated.\n",
    "from PIL import ImageFile\n",
    "ImageFile.LOAD_TRUNCATED_IMAGES = True\n",
    "\n",
    "def VGG16_predict(img_path):\n",
    "    '''\n",
    "    Use pre-trained VGG-16 model to obtain index corresponding to \n",
    "    predicted ImageNet class for image at specified path\n",
    "    \n",
    "    Args:\n",
    "        img_path: path to an image\n",
    "        \n",
    "    Returns:\n",
    "        Index corresponding to VGG-16 model's prediction\n",
    "    '''\n",
    "    \n",
    "    ## TODO: Complete the function.\n",
    "    ## Load and pre-process an image from the given img_path\n",
    "    ## Return the *index* of the predicted class for that image\n",
    "    \n",
    "    image = Image.open(img_path)\n",
    "    transform = transforms.Compose([\n",
    "        transforms.ToTensor(),\n",
    "        transforms.Normalize(mean=[0.485, 0.456, 0.406], std=[0.229, 0.224, 0.225])\n",
    "        \n",
    "    ])\n",
    "\n",
    "    image = transform(image)\n",
    "    image = image.unsqueeze(0)\n",
    "    if use_cuda:\n",
    "        image = image.cuda()\n",
    "    prediction = VGG16(image)  \n",
    "\n",
    "    return np.argmax(prediction.cpu().detach().numpy()) # predicted class index"
   ]
  },
  {
   "cell_type": "markdown",
   "metadata": {
    "colab_type": "text",
    "id": "w0e7AGQYRKfQ"
   },
   "source": [
    "### (IMPLEMENTATION) Write a Dog Detector\n",
    "\n",
    "While looking at the [dictionary](https://gist.github.com/yrevar/942d3a0ac09ec9e5eb3a), you will notice that the categories corresponding to dogs appear in an uninterrupted sequence and correspond to dictionary keys 151-268, inclusive, to include all categories from `'Chihuahua'` to `'Mexican hairless'`.  Thus, in order to check to see if an image is predicted to contain a dog by the pre-trained VGG-16 model, we need only check if the pre-trained model predicts an index between 151 and 268 (inclusive).\n",
    "\n",
    "Use these ideas to complete the `dog_detector` function below, which returns `True` if a dog is detected in an image (and `False` if not)."
   ]
  },
  {
   "cell_type": "code",
   "execution_count": 0,
   "metadata": {
    "colab": {},
    "colab_type": "code",
    "id": "0Eqyyj_URKfR"
   },
   "outputs": [],
   "source": [
    "### returns \"True\" if a dog is detected in the image stored at img_path\n",
    "def dog_detector(img_path):\n",
    "    ## TODO: Complete the function.\n",
    "    \n",
    "    result = VGG16_predict(img_path)\n",
    "    \n",
    "    return result >= 151 and result <= 268"
   ]
  },
  {
   "cell_type": "markdown",
   "metadata": {
    "colab_type": "text",
    "id": "JhLXIpVdRKfb"
   },
   "source": [
    "### (IMPLEMENTATION) Assess the Dog Detector\n",
    "\n",
    "__Question 2:__ Use the code cell below to test the performance of your `dog_detector` function.  \n",
    "- What percentage of the images in `human_files_short` have a detected dog?  \n",
    "- What percentage of the images in `dog_files_short` have a detected dog?"
   ]
  },
  {
   "cell_type": "markdown",
   "metadata": {
    "colab_type": "text",
    "id": "0PkehsmwRKfc"
   },
   "source": [
    "__Answer:__ \n",
    "The algorithm detected dog for 0% images of humans and 97% images of dogs."
   ]
  },
  {
   "cell_type": "code",
   "execution_count": 20,
   "metadata": {
    "colab": {
     "base_uri": "https://localhost:8080/",
     "height": 34
    },
    "colab_type": "code",
    "executionInfo": {
     "elapsed": 7648,
     "status": "ok",
     "timestamp": 1579519073584,
     "user": {
      "displayName": "Joanna Muras",
      "photoUrl": "",
      "userId": "08900016511846412259"
     },
     "user_tz": -60
    },
    "id": "i5U4pmL9RKfe",
    "outputId": "efdab12e-a488-4ffe-ab58-c1ab3f8b3eb9"
   },
   "outputs": [
    {
     "name": "stdout",
     "output_type": "stream",
     "text": [
      "The algorithm detected dog for 0% images of humans and 97% images of dogs.\n"
     ]
    }
   ],
   "source": [
    "### TODO: Test the performance of the dog_detector function\n",
    "### on the images in human_files_short and dog_files_short.\n",
    "\n",
    "counter = collections.Counter()\n",
    "\n",
    "for path in human_files_short:\n",
    "    if dog_detector(path):\n",
    "        counter[\"human\"] += 1\n",
    "        \n",
    "for path in dog_files_short:\n",
    "    if dog_detector(path):\n",
    "        counter[\"dog\"] += 1\n",
    "        \n",
    "print(\"The algorithm detected dog for {0}% images of humans and {1}% images of dogs.\".format(counter[\"human\"], counter[\"dog\"]))"
   ]
  },
  {
   "cell_type": "markdown",
   "metadata": {
    "colab_type": "text",
    "id": "mPY4YDvWRKfj"
   },
   "source": [
    "We suggest VGG-16 as a potential network to detect dog images in your algorithm, but you are free to explore other pre-trained networks (such as [Inception-v3](http://pytorch.org/docs/master/torchvision/models.html#inception-v3), [ResNet-50](http://pytorch.org/docs/master/torchvision/models.html#id3), etc).  Please use the code cell below to test other pre-trained PyTorch models.  If you decide to pursue this _optional_ task, report performance on `human_files_short` and `dog_files_short`."
   ]
  },
  {
   "cell_type": "code",
   "execution_count": 0,
   "metadata": {
    "colab": {},
    "colab_type": "code",
    "id": "tajEDdcARKfl"
   },
   "outputs": [],
   "source": [
    "### (Optional) \n",
    "### TODO: Report the performance of another pre-trained network.\n",
    "### Feel free to use as many code cells as needed."
   ]
  },
  {
   "cell_type": "markdown",
   "metadata": {
    "colab_type": "text",
    "id": "u73Vt6iBRKfp"
   },
   "source": [
    "---\n",
    "<a id='step3'></a>\n",
    "## Step 3: Create a CNN to Classify Dog Breeds (from Scratch)\n",
    "\n",
    "Now that we have functions for detecting humans and dogs in images, we need a way to predict breed from images.  In this step, you will create a CNN that classifies dog breeds.  You must create your CNN _from scratch_ (so, you can't use transfer learning _yet_!), and you must attain a test accuracy of at least 10%.  In Step 4 of this notebook, you will have the opportunity to use transfer learning to create a CNN that attains greatly improved accuracy.\n",
    "\n",
    "We mention that the task of assigning breed to dogs from images is considered exceptionally challenging.  To see why, consider that *even a human* would have trouble distinguishing between a Brittany and a Welsh Springer Spaniel.  \n",
    "\n",
    "Brittany | Welsh Springer Spaniel\n",
    "- | - \n",
    "<img src=\"images/Brittany_02625.jpg\" width=\"100\"> | <img src=\"images/Welsh_springer_spaniel_08203.jpg\" width=\"200\">\n",
    "\n",
    "It is not difficult to find other dog breed pairs with minimal inter-class variation (for instance, Curly-Coated Retrievers and American Water Spaniels).  \n",
    "\n",
    "Curly-Coated Retriever | American Water Spaniel\n",
    "- | -\n",
    "<img src=\"images/Curly-coated_retriever_03896.jpg\" width=\"200\"> | <img src=\"images/American_water_spaniel_00648.jpg\" width=\"200\">\n",
    "\n",
    "\n",
    "Likewise, recall that labradors come in yellow, chocolate, and black.  Your vision-based algorithm will have to conquer this high intra-class variation to determine how to classify all of these different shades as the same breed.  \n",
    "\n",
    "Yellow Labrador | Chocolate Labrador | Black Labrador\n",
    "- | -\n",
    "<img src=\"images/Labrador_retriever_06457.jpg\" width=\"150\"> | <img src=\"images/Labrador_retriever_06455.jpg\" width=\"240\"> | <img src=\"images/Labrador_retriever_06449.jpg\" width=\"220\">\n",
    "\n",
    "We also mention that random chance presents an exceptionally low bar: setting aside the fact that the classes are slightly imabalanced, a random guess will provide a correct answer roughly 1 in 133 times, which corresponds to an accuracy of less than 1%.  \n",
    "\n",
    "Remember that the practice is far ahead of the theory in deep learning.  Experiment with many different architectures, and trust your intuition.  And, of course, have fun!\n",
    "\n",
    "### (IMPLEMENTATION) Specify Data Loaders for the Dog Dataset\n",
    "\n",
    "Use the code cell below to write three separate [data loaders](http://pytorch.org/docs/stable/data.html#torch.utils.data.DataLoader) for the training, validation, and test datasets of dog images (located at `dogImages/train`, `dogImages/valid`, and `dogImages/test`, respectively).  You may find [this documentation on custom datasets](http://pytorch.org/docs/stable/torchvision/datasets.html) to be a useful resource.  If you are interested in augmenting your training and/or validation data, check out the wide variety of [transforms](http://pytorch.org/docs/stable/torchvision/transforms.html?highlight=transform)!"
   ]
  },
  {
   "cell_type": "code",
   "execution_count": 0,
   "metadata": {
    "colab": {},
    "colab_type": "code",
    "id": "685NLRr1RKfq"
   },
   "outputs": [],
   "source": [
    "import os\n",
    "from torchvision import datasets\n",
    "from torchvision import transforms\n",
    "from torch.utils import data\n",
    "\n",
    "import matplotlib.pyplot as plt\n",
    "\n",
    "### TODO: Write data loaders for training, validation, and test sets\n",
    "## Specify appropriate transforms, and batch_sizes\n",
    "\n",
    "data_transform = transforms.Compose([\n",
    "    transforms.RandomResizedCrop(224),\n",
    "    transforms.ToTensor(),\n",
    "    transforms.Normalize(mean=[0.485, 0.456, 0.406], std=[0.229, 0.224, 0.225])\n",
    "])\n",
    "\n",
    "data_transform_train = transforms.Compose([\n",
    "    transforms.RandomResizedCrop(224),\n",
    "    transforms.RandomRotation((0, 90)),\n",
    "    transforms.ToTensor(),\n",
    "    transforms.Normalize(mean=[0.485, 0.456, 0.406], std=[0.229, 0.224, 0.225])\n",
    "])\n",
    "\n",
    "loaders_scratch = {}\n",
    "batch_size = 10\n",
    "num_workers = 2\n",
    "\n",
    "train_dataset = datasets.ImageFolder(root='/content/drive/My Drive/Colab Notebooks/data/dogImages/train', transform=data_transform_train)\n",
    "loaders_scratch['train'] = data.DataLoader(train_dataset, batch_size=batch_size, shuffle=True, num_workers=num_workers)\n",
    "\n",
    "valid_dataset = datasets.ImageFolder(root='/content/drive/My Drive/Colab Notebooks/data/dogImages/valid', transform=data_transform)\n",
    "loaders_scratch['valid'] = data.DataLoader(valid_dataset, batch_size=batch_size, shuffle=True, num_workers=num_workers)\n",
    "\n",
    "test_dataset = datasets.ImageFolder(root='/content/drive/My Drive/Colab Notebooks/data/dogImages/test', transform=data_transform)\n",
    "loaders_scratch['test'] = data.DataLoader(test_dataset, batch_size=batch_size, shuffle=True, num_workers=num_workers)\n"
   ]
  },
  {
   "cell_type": "markdown",
   "metadata": {
    "colab_type": "text",
    "id": "gtD6Pns1RKft"
   },
   "source": [
    "**Question 3:** Describe your chosen procedure for preprocessing the data.\n",
    "- How does your code resize the images (by cropping, stretching, etc)?  What size did you pick for the input tensor, and why?\n",
    "- Did you decide to augment the dataset?  If so, how (through translations, flips, rotations, etc)?  If not, why not?\n"
   ]
  },
  {
   "cell_type": "markdown",
   "metadata": {
    "colab_type": "text",
    "id": "n_ZnPd3bRKfv"
   },
   "source": [
    "**Answer**: \n",
    "\n",
    "Each image was resized and randomly cropped to a square of 224x224 pixels. Following that the image was normalized according to library instructions. Such a size was selected because data loss could not be seen and image was not too big. \n",
    "I decided to augment training data because after few tries to learn the network detection accuracy was not so great. After that I could see imrovement in learning quality. As data augmentation I selected random rotation up to 90 degrees."
   ]
  },
  {
   "cell_type": "markdown",
   "metadata": {
    "colab_type": "text",
    "id": "hcmUcx6HRKfw"
   },
   "source": [
    "### (IMPLEMENTATION) Model Architecture\n",
    "\n",
    "Create a CNN to classify dog breed.  Use the template in the code cell below."
   ]
  },
  {
   "cell_type": "code",
   "execution_count": 0,
   "metadata": {
    "colab": {},
    "colab_type": "code",
    "id": "BL7wmnmaRKf1"
   },
   "outputs": [],
   "source": [
    "import torch.nn as nn\n",
    "import torch.nn.functional as F\n",
    "\n",
    "# define the CNN architecture\n",
    "class Net(nn.Module):\n",
    "    ### TODO: choose an architecture, and complete the class\n",
    "    def __init__(self):\n",
    "        super(Net, self).__init__()\n",
    "        ## Define layers of a CNN\n",
    "        \n",
    "        self.layer1 = nn.Sequential(\n",
    "            nn.Conv2d(3, 16, kernel_size=3, stride=1, padding=1),\n",
    "            nn.ReLU(),\n",
    "            nn.MaxPool2d(kernel_size=2, stride=2))\n",
    "        \n",
    "        self.layer2 = nn.Sequential(\n",
    "            nn.Conv2d(16, 32, kernel_size=3, stride=1, padding=1),\n",
    "            nn.ReLU(),\n",
    "            nn.MaxPool2d(kernel_size=2, stride=2))\n",
    "            \n",
    "        self.layer3 = nn.Sequential(\n",
    "            nn.Conv2d(32, 64, kernel_size=3, stride=1, padding=1),\n",
    "            nn.ReLU(),\n",
    "            nn.MaxPool2d(kernel_size=2, stride=2))\n",
    "        \n",
    "        self.layer4 = nn.Sequential(\n",
    "            nn.Conv2d(64, 128, kernel_size=3, stride=1, padding=1),\n",
    "            nn.ReLU(),\n",
    "            nn.MaxPool2d(kernel_size=2, stride=2))\n",
    "        \n",
    "        self.dropout2 = nn.Dropout(0.2)\n",
    "        self.dropout4 = nn.Dropout(0.4)\n",
    "        \n",
    "        self.full1 = nn.Sequential(\n",
    "            nn.Linear(128 * 14 * 14, 512),\n",
    "            nn.ReLU())\n",
    "\n",
    "        self.fc2 = nn.Linear(512, 133)\n",
    "    \n",
    "    def forward(self, x):\n",
    "        ## Define forward behavior\n",
    "\n",
    "        x = self.layer1(x)\n",
    "        x = self.dropout2(x)\n",
    "        x = self.layer2(x)\n",
    "        x = self.dropout2(x)\n",
    "        x = self.layer3(x)\n",
    "        x = self.dropout2(x)\n",
    "        x = self.layer4(x)\n",
    "\n",
    "        x = x.view(-1, 128 * 14 * 14)\n",
    "        \n",
    "        x = self.dropout4(x)\n",
    "        x = self.full1(x)\n",
    "        x = self.dropout4(x)\n",
    "        x = self.fc2(x)\n",
    "        \n",
    "        return x\n",
    "\n",
    "#-#-# You do NOT have to modify the code below this line. #-#-#\n",
    "\n",
    "# instantiate the CNN\n",
    "model_scratch = Net()\n",
    "\n",
    "# move tensors to GPU if CUDA is available\n",
    "if use_cuda:\n",
    "    model_scratch.cuda()"
   ]
  },
  {
   "cell_type": "markdown",
   "metadata": {
    "colab_type": "text",
    "id": "e3B2cAOtRKf4"
   },
   "source": [
    "__Question 4:__ Outline the steps you took to get to your final CNN architecture and your reasoning at each step.  "
   ]
  },
  {
   "cell_type": "markdown",
   "metadata": {
    "colab_type": "text",
    "id": "J7cqNHhvRKf6"
   },
   "source": [
    "__Answer:__\n",
    "In feature part of the network I decided to use 4 layers which consisted of:\n",
    "- convolutional layer with kernel size 3 increasing number of features\n",
    "- ReLu activation function\n",
    "- pooling layer to reduce image size by 2\n",
    "- dropout mechanism with probability 0.2\n",
    "\n",
    "In fully connected part I decided to use 2 layers. First reduced number of inputs from 25088 to 512 and the second one reduced number of inputs from 512 to number of classes to be detected - 133. There was dropout layer in beetwen with probability of 0.4.\n",
    "\n",
    "Such a model was selected because similar approach was used during the classes to similar problem. In addition, some of the network models used in pytorch were similar although usually more complicated. I tried to select simple model due to small amount of data.\n"
   ]
  },
  {
   "cell_type": "markdown",
   "metadata": {
    "colab_type": "text",
    "id": "LOWO108ARKf7"
   },
   "source": [
    "### (IMPLEMENTATION) Specify Loss Function and Optimizer\n",
    "\n",
    "Use the next code cell to specify a [loss function](http://pytorch.org/docs/stable/nn.html#loss-functions) and [optimizer](http://pytorch.org/docs/stable/optim.html).  Save the chosen loss function as `criterion_scratch`, and the optimizer as `optimizer_scratch` below."
   ]
  },
  {
   "cell_type": "code",
   "execution_count": 0,
   "metadata": {
    "colab": {},
    "colab_type": "code",
    "id": "Zkk4rvu6RKf9"
   },
   "outputs": [],
   "source": [
    "import torch.optim as optim\n",
    "\n",
    "learning_rate = 0.001\n",
    "\n",
    "### TODO: select loss function\n",
    "criterion_scratch = nn.CrossEntropyLoss()\n",
    "\n",
    "### TODO: select optimizer\n",
    "optimizer_scratch = optim.SGD(model_scratch.parameters(), lr=learning_rate)"
   ]
  },
  {
   "cell_type": "markdown",
   "metadata": {
    "colab_type": "text",
    "id": "w0v3z0DDRKgE"
   },
   "source": [
    "### (IMPLEMENTATION) Train and Validate the Model\n",
    "\n",
    "Train and validate your model in the code cell below.  [Save the final model parameters](http://pytorch.org/docs/master/notes/serialization.html) at filepath `'model_scratch.pt'`."
   ]
  },
  {
   "cell_type": "code",
   "execution_count": 0,
   "metadata": {
    "colab": {
     "base_uri": "https://localhost:8080/",
     "height": 1000
    },
    "colab_type": "code",
    "id": "HZjQUoZrLtAO",
    "outputId": "cd83d2e4-867c-445b-be2e-de62b5126191"
   },
   "outputs": [
    {
     "name": "stdout",
     "output_type": "stream",
     "text": [
      "Epoch: 1 \tTraining Loss: 4.889802 \tValidation Loss: 4.887720 \tValidation Accuracy: 1.197605\n",
      "Epoch: 2 \tTraining Loss: 4.880711 \tValidation Loss: 4.884031 \tValidation Accuracy: 1.017964\n",
      "Epoch: 3 \tTraining Loss: 4.874452 \tValidation Loss: 4.880095 \tValidation Accuracy: 1.117764\n",
      "Epoch: 4 \tTraining Loss: 4.872150 \tValidation Loss: 4.878139 \tValidation Accuracy: 1.137725\n",
      "Epoch: 5 \tTraining Loss: 4.866072 \tValidation Loss: 4.874239 \tValidation Accuracy: 1.149701\n",
      "Epoch: 6 \tTraining Loss: 4.861391 \tValidation Loss: 4.871423 \tValidation Accuracy: 1.217565\n",
      "Epoch: 7 \tTraining Loss: 4.860166 \tValidation Loss: 4.868813 \tValidation Accuracy: 1.317365\n",
      "Epoch: 8 \tTraining Loss: 4.853275 \tValidation Loss: 4.864301 \tValidation Accuracy: 1.317365\n",
      "Epoch: 9 \tTraining Loss: 4.844520 \tValidation Loss: 4.859428 \tValidation Accuracy: 1.317365\n",
      "Epoch: 10 \tTraining Loss: 4.831635 \tValidation Loss: 4.853657 \tValidation Accuracy: 1.293413\n",
      "Epoch: 11 \tTraining Loss: 4.819396 \tValidation Loss: 4.842750 \tValidation Accuracy: 1.317365\n",
      "Epoch: 12 \tTraining Loss: 4.812555 \tValidation Loss: 4.830974 \tValidation Accuracy: 1.347305\n",
      "Epoch: 13 \tTraining Loss: 4.792469 \tValidation Loss: 4.818999 \tValidation Accuracy: 1.354215\n",
      "Epoch: 14 \tTraining Loss: 4.779333 \tValidation Loss: 4.812827 \tValidation Accuracy: 1.360137\n",
      "Epoch: 15 \tTraining Loss: 4.778947 \tValidation Loss: 4.810057 \tValidation Accuracy: 1.373253\n",
      "Epoch: 16 \tTraining Loss: 4.770101 \tValidation Loss: 4.802031 \tValidation Accuracy: 1.384731\n",
      "Epoch: 17 \tTraining Loss: 4.765337 \tValidation Loss: 4.789282 \tValidation Accuracy: 1.423036\n",
      "Epoch: 18 \tTraining Loss: 4.761455 \tValidation Loss: 4.792146 \tValidation Accuracy: 1.450432\n",
      "Epoch: 19 \tTraining Loss: 4.737973 \tValidation Loss: 4.785418 \tValidation Accuracy: 1.519067\n",
      "Epoch: 20 \tTraining Loss: 4.739319 \tValidation Loss: 4.789217 \tValidation Accuracy: 1.526946\n",
      "Epoch: 21 \tTraining Loss: 4.726267 \tValidation Loss: 4.771544 \tValidation Accuracy: 1.511263\n",
      "Epoch: 22 \tTraining Loss: 4.737859 \tValidation Loss: 4.789311 \tValidation Accuracy: 1.518781\n",
      "Epoch: 23 \tTraining Loss: 4.719619 \tValidation Loss: 4.772806 \tValidation Accuracy: 1.562093\n",
      "Epoch: 24 \tTraining Loss: 4.714355 \tValidation Loss: 4.764539 \tValidation Accuracy: 1.586826\n",
      "Epoch: 25 \tTraining Loss: 4.707738 \tValidation Loss: 4.769601 \tValidation Accuracy: 1.590419\n",
      "Epoch: 26 \tTraining Loss: 4.702507 \tValidation Loss: 4.759590 \tValidation Accuracy: 1.607554\n",
      "Epoch: 27 \tTraining Loss: 4.686752 \tValidation Loss: 4.754711 \tValidation Accuracy: 1.632291\n",
      "Epoch: 28 \tTraining Loss: 4.681721 \tValidation Loss: 4.736724 \tValidation Accuracy: 1.659538\n",
      "Epoch: 29 \tTraining Loss: 4.665602 \tValidation Loss: 4.728213 \tValidation Accuracy: 1.680776\n",
      "Epoch: 30 \tTraining Loss: 4.651689 \tValidation Loss: 4.731114 \tValidation Accuracy: 1.692615\n",
      "Epoch: 31 \tTraining Loss: 4.639747 \tValidation Loss: 4.686635 \tValidation Accuracy: 1.730732\n",
      "Epoch: 32 \tTraining Loss: 4.614209 \tValidation Loss: 4.687821 \tValidation Accuracy: 1.736527\n",
      "Epoch: 33 \tTraining Loss: 4.612519 \tValidation Loss: 4.683485 \tValidation Accuracy: 1.763745\n",
      "Epoch: 34 \tTraining Loss: 4.588634 \tValidation Loss: 4.659617 \tValidation Accuracy: 1.799930\n",
      "Epoch: 35 \tTraining Loss: 4.589596 \tValidation Loss: 4.668017 \tValidation Accuracy: 1.806672\n",
      "Epoch: 36 \tTraining Loss: 4.579241 \tValidation Loss: 4.631346 \tValidation Accuracy: 1.852961\n",
      "Epoch: 37 \tTraining Loss: 4.573422 \tValidation Loss: 4.655549 \tValidation Accuracy: 1.880563\n",
      "Epoch: 38 \tTraining Loss: 4.551734 \tValidation Loss: 4.619094 \tValidation Accuracy: 1.922471\n",
      "Epoch: 39 \tTraining Loss: 4.558963 \tValidation Loss: 4.625632 \tValidation Accuracy: 1.977583\n",
      "Epoch: 40 \tTraining Loss: 4.529906 \tValidation Loss: 4.597682 \tValidation Accuracy: 2.023952\n",
      "Epoch: 41 \tTraining Loss: 4.534218 \tValidation Loss: 4.611000 \tValidation Accuracy: 2.050533\n",
      "Epoch: 42 \tTraining Loss: 4.524575 \tValidation Loss: 4.585309 \tValidation Accuracy: 2.092957\n",
      "Epoch: 43 \tTraining Loss: 4.523911 \tValidation Loss: 4.624469 \tValidation Accuracy: 2.127837\n",
      "Epoch: 44 \tTraining Loss: 4.513161 \tValidation Loss: 4.608538 \tValidation Accuracy: 2.150245\n",
      "Epoch: 45 \tTraining Loss: 4.510570 \tValidation Loss: 4.579090 \tValidation Accuracy: 2.195609\n",
      "Epoch: 46 \tTraining Loss: 4.492032 \tValidation Loss: 4.594042 \tValidation Accuracy: 2.236397\n",
      "Epoch: 47 \tTraining Loss: 4.486064 \tValidation Loss: 4.586446 \tValidation Accuracy: 2.255064\n",
      "Epoch: 48 \tTraining Loss: 4.479362 \tValidation Loss: 4.578300 \tValidation Accuracy: 2.272954\n",
      "Epoch: 49 \tTraining Loss: 4.474050 \tValidation Loss: 4.568787 \tValidation Accuracy: 2.292558\n",
      "Epoch: 50 \tTraining Loss: 4.477848 \tValidation Loss: 4.564169 \tValidation Accuracy: 2.304192\n",
      "Epoch: 51 \tTraining Loss: 4.461338 \tValidation Loss: 4.576610 \tValidation Accuracy: 2.322414\n",
      "Epoch: 52 \tTraining Loss: 4.446775 \tValidation Loss: 4.553746 \tValidation Accuracy: 2.358360\n",
      "Epoch: 53 \tTraining Loss: 4.451097 \tValidation Loss: 4.539131 \tValidation Accuracy: 2.390690\n",
      "Epoch: 54 \tTraining Loss: 4.445972 \tValidation Loss: 4.542055 \tValidation Accuracy: 2.408516\n",
      "Epoch: 55 \tTraining Loss: 4.439577 \tValidation Loss: 4.543793 \tValidation Accuracy: 2.425694\n",
      "Epoch: 56 \tTraining Loss: 4.432490 \tValidation Loss: 4.550891 \tValidation Accuracy: 2.459367\n",
      "Epoch: 57 \tTraining Loss: 4.423673 \tValidation Loss: 4.563600 \tValidation Accuracy: 2.466646\n",
      "Epoch: 58 \tTraining Loss: 4.411632 \tValidation Loss: 4.514838 \tValidation Accuracy: 2.492257\n",
      "Epoch: 59 \tTraining Loss: 4.408273 \tValidation Loss: 4.528983 \tValidation Accuracy: 2.514970\n",
      "Epoch: 60 \tTraining Loss: 4.414958 \tValidation Loss: 4.522494 \tValidation Accuracy: 2.546906\n",
      "Epoch: 61 \tTraining Loss: 4.376550 \tValidation Loss: 4.531257 \tValidation Accuracy: 2.567979\n",
      "Epoch: 62 \tTraining Loss: 4.381496 \tValidation Loss: 4.524548 \tValidation Accuracy: 2.584508\n",
      "Epoch: 63 \tTraining Loss: 4.383953 \tValidation Loss: 4.505863 \tValidation Accuracy: 2.625226\n",
      "Epoch: 64 \tTraining Loss: 4.377995 \tValidation Loss: 4.511341 \tValidation Accuracy: 2.651572\n",
      "Epoch: 65 \tTraining Loss: 4.372977 \tValidation Loss: 4.516416 \tValidation Accuracy: 2.677107\n",
      "Epoch: 66 \tTraining Loss: 4.371068 \tValidation Loss: 4.496193 \tValidation Accuracy: 2.694611\n",
      "Epoch: 67 \tTraining Loss: 4.357546 \tValidation Loss: 4.477891 \tValidation Accuracy: 2.711592\n",
      "Epoch: 68 \tTraining Loss: 4.359361 \tValidation Loss: 4.514221 \tValidation Accuracy: 2.729834\n",
      "Epoch: 69 \tTraining Loss: 4.358708 \tValidation Loss: 4.481921 \tValidation Accuracy: 2.752755\n",
      "Epoch: 70 \tTraining Loss: 4.342451 \tValidation Loss: 4.494312 \tValidation Accuracy: 2.773311\n",
      "Epoch: 71 \tTraining Loss: 4.336425 \tValidation Loss: 4.471353 \tValidation Accuracy: 2.803407\n",
      "Epoch: 72 \tTraining Loss: 4.337156 \tValidation Loss: 4.462639 \tValidation Accuracy: 2.844311\n",
      "Epoch: 73 \tTraining Loss: 4.331333 \tValidation Loss: 4.463763 \tValidation Accuracy: 2.857846\n",
      "Epoch: 74 \tTraining Loss: 4.324495 \tValidation Loss: 4.511412 \tValidation Accuracy: 2.872633\n",
      "Epoch: 75 \tTraining Loss: 4.330863 \tValidation Loss: 4.460423 \tValidation Accuracy: 2.899800\n",
      "Epoch: 76 \tTraining Loss: 4.310118 \tValidation Loss: 4.447963 \tValidation Accuracy: 2.905767\n",
      "Epoch: 77 \tTraining Loss: 4.295402 \tValidation Loss: 4.438911 \tValidation Accuracy: 2.933354\n",
      "Epoch: 78 \tTraining Loss: 4.304292 \tValidation Loss: 4.478023 \tValidation Accuracy: 2.954092\n",
      "Epoch: 79 \tTraining Loss: 4.298469 \tValidation Loss: 4.451281 \tValidation Accuracy: 2.975821\n",
      "Epoch: 80 \tTraining Loss: 4.302401 \tValidation Loss: 4.428257 \tValidation Accuracy: 2.986527\n",
      "Epoch: 81 \tTraining Loss: 4.288504 \tValidation Loss: 4.407689 \tValidation Accuracy: 3.004362\n",
      "Epoch: 82 \tTraining Loss: 4.292784 \tValidation Loss: 4.445201 \tValidation Accuracy: 3.014459\n",
      "Epoch: 83 \tTraining Loss: 4.284618 \tValidation Loss: 4.402153 \tValidation Accuracy: 3.047399\n",
      "Epoch: 84 \tTraining Loss: 4.265228 \tValidation Loss: 4.439430 \tValidation Accuracy: 3.061021\n",
      "Epoch: 85 \tTraining Loss: 4.280429 \tValidation Loss: 4.411247 \tValidation Accuracy: 3.084185\n",
      "Epoch: 86 \tTraining Loss: 4.265531 \tValidation Loss: 4.446830 \tValidation Accuracy: 3.102632\n",
      "Epoch: 87 \tTraining Loss: 4.277637 \tValidation Loss: 4.453113 \tValidation Accuracy: 3.115149\n",
      "Epoch: 88 \tTraining Loss: 4.246767 \tValidation Loss: 4.446455 \tValidation Accuracy: 3.142352\n",
      "Epoch: 89 \tTraining Loss: 4.250443 \tValidation Loss: 4.413422 \tValidation Accuracy: 3.166252\n",
      "Epoch: 90 \tTraining Loss: 4.256778 \tValidation Loss: 4.449054 \tValidation Accuracy: 3.184298\n",
      "Epoch: 91 \tTraining Loss: 4.248568 \tValidation Loss: 4.411288 \tValidation Accuracy: 3.201948\n",
      "Epoch: 92 \tTraining Loss: 4.236390 \tValidation Loss: 4.399438 \tValidation Accuracy: 3.236136\n",
      "Epoch: 93 \tTraining Loss: 4.231069 \tValidation Loss: 4.380850 \tValidation Accuracy: 3.254137\n",
      "Epoch: 94 \tTraining Loss: 4.226260 \tValidation Loss: 4.399861 \tValidation Accuracy: 3.276851\n",
      "Epoch: 95 \tTraining Loss: 4.241671 \tValidation Loss: 4.394013 \tValidation Accuracy: 3.297825\n",
      "Epoch: 96 \tTraining Loss: 4.235939 \tValidation Loss: 4.401415 \tValidation Accuracy: 3.318363\n",
      "Epoch: 97 \tTraining Loss: 4.207224 \tValidation Loss: 4.398232 \tValidation Accuracy: 3.343416\n",
      "Epoch: 98 \tTraining Loss: 4.210842 \tValidation Loss: 4.397831 \tValidation Accuracy: 3.366736\n",
      "Epoch: 99 \tTraining Loss: 4.203180 \tValidation Loss: 4.404888 \tValidation Accuracy: 3.384746\n",
      "Epoch: 100 \tTraining Loss: 4.204020 \tValidation Loss: 4.367791 \tValidation Accuracy: 3.405988\n",
      "Epoch: 101 \tTraining Loss: 4.190968 \tValidation Loss: 4.377901 \tValidation Accuracy: 3.419695\n",
      "Epoch: 102 \tTraining Loss: 4.181694 \tValidation Loss: 4.345314 \tValidation Accuracy: 3.440178\n",
      "Epoch: 103 \tTraining Loss: 4.192420 \tValidation Loss: 4.383793 \tValidation Accuracy: 3.467240\n",
      "Epoch: 104 \tTraining Loss: 4.183096 \tValidation Loss: 4.361443 \tValidation Accuracy: 3.484569\n",
      "Epoch: 105 \tTraining Loss: 4.175605 \tValidation Loss: 4.361559 \tValidation Accuracy: 3.509552\n",
      "Epoch: 106 \tTraining Loss: 4.178320 \tValidation Loss: 4.367634 \tValidation Accuracy: 3.532934\n",
      "Epoch: 107 \tTraining Loss: 4.159990 \tValidation Loss: 4.353925 \tValidation Accuracy: 3.555879\n",
      "Epoch: 108 \tTraining Loss: 4.147770 \tValidation Loss: 4.333640 \tValidation Accuracy: 3.589488\n",
      "Epoch: 109 \tTraining Loss: 4.151306 \tValidation Loss: 4.317529 \tValidation Accuracy: 3.616986\n",
      "Epoch: 110 \tTraining Loss: 4.148232 \tValidation Loss: 4.317950 \tValidation Accuracy: 3.643985\n",
      "Epoch: 111 \tTraining Loss: 4.143281 \tValidation Loss: 4.364029 \tValidation Accuracy: 3.660787\n",
      "Epoch: 112 \tTraining Loss: 4.126160 \tValidation Loss: 4.356215 \tValidation Accuracy: 3.676219\n",
      "Epoch: 113 \tTraining Loss: 4.128595 \tValidation Loss: 4.335250 \tValidation Accuracy: 3.693498\n",
      "Epoch: 114 \tTraining Loss: 4.115768 \tValidation Loss: 4.343791 \tValidation Accuracy: 3.714676\n",
      "Epoch: 115 \tTraining Loss: 4.134300 \tValidation Loss: 4.289955 \tValidation Accuracy: 3.730279\n",
      "Epoch: 116 \tTraining Loss: 4.124463 \tValidation Loss: 4.347414 \tValidation Accuracy: 3.746645\n",
      "Epoch: 117 \tTraining Loss: 4.108920 \tValidation Loss: 4.339469 \tValidation Accuracy: 3.762731\n",
      "Epoch: 118 \tTraining Loss: 4.091233 \tValidation Loss: 4.308765 \tValidation Accuracy: 3.785649\n",
      "Epoch: 119 \tTraining Loss: 4.096913 \tValidation Loss: 4.282137 \tValidation Accuracy: 3.806169\n",
      "Epoch: 120 \tTraining Loss: 4.072002 \tValidation Loss: 4.277309 \tValidation Accuracy: 3.833333\n",
      "Epoch: 121 \tTraining Loss: 4.089199 \tValidation Loss: 4.335621 \tValidation Accuracy: 3.858069\n",
      "Epoch: 122 \tTraining Loss: 4.070497 \tValidation Loss: 4.321894 \tValidation Accuracy: 3.877491\n",
      "Epoch: 123 \tTraining Loss: 4.079008 \tValidation Loss: 4.284268 \tValidation Accuracy: 3.907307\n",
      "Epoch: 124 \tTraining Loss: 4.052811 \tValidation Loss: 4.293931 \tValidation Accuracy: 3.926985\n",
      "Epoch: 125 \tTraining Loss: 4.044912 \tValidation Loss: 4.251979 \tValidation Accuracy: 3.953054\n",
      "Epoch: 126 \tTraining Loss: 4.063595 \tValidation Loss: 4.272233 \tValidation Accuracy: 3.973006\n",
      "Epoch: 127 \tTraining Loss: 4.043044 \tValidation Loss: 4.296424 \tValidation Accuracy: 3.989816\n",
      "Epoch: 128 \tTraining Loss: 4.037798 \tValidation Loss: 4.264029 \tValidation Accuracy: 4.004491\n",
      "Epoch: 129 \tTraining Loss: 4.029923 \tValidation Loss: 4.291706 \tValidation Accuracy: 4.024509\n",
      "Epoch: 130 \tTraining Loss: 4.035285 \tValidation Loss: 4.245619 \tValidation Accuracy: 4.044219\n",
      "Epoch: 131 \tTraining Loss: 4.039813 \tValidation Loss: 4.212646 \tValidation Accuracy: 4.070942\n",
      "Epoch: 132 \tTraining Loss: 4.009869 \tValidation Loss: 4.274029 \tValidation Accuracy: 4.088187\n",
      "Epoch: 133 \tTraining Loss: 4.025888 \tValidation Loss: 4.260013 \tValidation Accuracy: 4.123182\n",
      "Epoch: 134 \tTraining Loss: 4.016978 \tValidation Loss: 4.254373 \tValidation Accuracy: 4.145143\n",
      "Epoch: 135 \tTraining Loss: 4.021310 \tValidation Loss: 4.253362 \tValidation Accuracy: 4.162342\n",
      "Epoch: 136 \tTraining Loss: 4.003283 \tValidation Loss: 4.215093 \tValidation Accuracy: 4.174886\n",
      "Epoch: 137 \tTraining Loss: 3.988268 \tValidation Loss: 4.256962 \tValidation Accuracy: 4.192491\n",
      "Epoch: 138 \tTraining Loss: 3.976783 \tValidation Loss: 4.275323 \tValidation Accuracy: 4.217652\n",
      "Epoch: 139 \tTraining Loss: 3.991629 \tValidation Loss: 4.244455 \tValidation Accuracy: 4.237281\n",
      "Epoch: 140 \tTraining Loss: 3.977470 \tValidation Loss: 4.188062 \tValidation Accuracy: 4.262618\n",
      "Epoch: 141 \tTraining Loss: 3.964296 \tValidation Loss: 4.218343 \tValidation Accuracy: 4.276553\n",
      "Epoch: 142 \tTraining Loss: 3.949083 \tValidation Loss: 4.191419 \tValidation Accuracy: 4.303787\n",
      "Epoch: 143 \tTraining Loss: 3.958943 \tValidation Loss: 4.218114 \tValidation Accuracy: 4.322265\n",
      "Epoch: 144 \tTraining Loss: 3.951160 \tValidation Loss: 4.188188 \tValidation Accuracy: 4.349634\n",
      "Epoch: 145 \tTraining Loss: 3.944432 \tValidation Loss: 4.183220 \tValidation Accuracy: 4.365063\n",
      "Epoch: 146 \tTraining Loss: 3.936501 \tValidation Loss: 4.212515 \tValidation Accuracy: 4.372078\n",
      "Epoch: 147 \tTraining Loss: 3.925274 \tValidation Loss: 4.181818 \tValidation Accuracy: 4.384700\n",
      "Epoch: 148 \tTraining Loss: 3.931989 \tValidation Loss: 4.235027 \tValidation Accuracy: 4.408480\n",
      "Epoch: 149 \tTraining Loss: 3.923272 \tValidation Loss: 4.209925 \tValidation Accuracy: 4.423100\n",
      "Epoch: 150 \tTraining Loss: 3.911864 \tValidation Loss: 4.197152 \tValidation Accuracy: 4.447904\n",
      "Epoch: 151 \tTraining Loss: 3.923867 \tValidation Loss: 4.176208 \tValidation Accuracy: 4.470794\n",
      "Epoch: 152 \tTraining Loss: 3.914864 \tValidation Loss: 4.196151 \tValidation Accuracy: 4.488654\n",
      "Epoch: 153 \tTraining Loss: 3.901565 \tValidation Loss: 4.166702 \tValidation Accuracy: 4.508630\n",
      "Epoch: 154 \tTraining Loss: 3.898861 \tValidation Loss: 4.163126 \tValidation Accuracy: 4.536900\n",
      "Epoch: 155 \tTraining Loss: 3.897008 \tValidation Loss: 4.158103 \tValidation Accuracy: 4.562488\n",
      "Epoch: 156 \tTraining Loss: 3.882429 \tValidation Loss: 4.182452 \tValidation Accuracy: 4.578535\n",
      "Epoch: 157 \tTraining Loss: 3.881769 \tValidation Loss: 4.127035 \tValidation Accuracy: 4.602769\n",
      "Epoch: 158 \tTraining Loss: 3.856653 \tValidation Loss: 4.127237 \tValidation Accuracy: 4.625180\n",
      "Epoch: 159 \tTraining Loss: 3.864453 \tValidation Loss: 4.138508 \tValidation Accuracy: 4.657101\n",
      "Epoch: 160 \tTraining Loss: 3.857637 \tValidation Loss: 4.148266 \tValidation Accuracy: 4.676647\n",
      "Epoch: 161 \tTraining Loss: 3.857973 \tValidation Loss: 4.145984 \tValidation Accuracy: 4.702644\n",
      "Epoch: 162 \tTraining Loss: 3.830939 \tValidation Loss: 4.138818 \tValidation Accuracy: 4.723146\n",
      "Epoch: 163 \tTraining Loss: 3.855467 \tValidation Loss: 4.147429 \tValidation Accuracy: 4.731641\n",
      "Epoch: 164 \tTraining Loss: 3.837106 \tValidation Loss: 4.156875 \tValidation Accuracy: 4.751716\n",
      "Epoch: 165 \tTraining Loss: 3.831790 \tValidation Loss: 4.119478 \tValidation Accuracy: 4.776629\n",
      "Epoch: 166 \tTraining Loss: 3.820386 \tValidation Loss: 4.124229 \tValidation Accuracy: 4.801962\n",
      "Epoch: 167 \tTraining Loss: 3.804905 \tValidation Loss: 4.135494 \tValidation Accuracy: 4.821973\n",
      "Epoch: 168 \tTraining Loss: 3.816918 \tValidation Loss: 4.081820 \tValidation Accuracy: 4.840319\n",
      "Epoch: 169 \tTraining Loss: 3.828218 \tValidation Loss: 4.104443 \tValidation Accuracy: 4.858449\n",
      "Epoch: 170 \tTraining Loss: 3.802220 \tValidation Loss: 4.152456 \tValidation Accuracy: 4.875660\n",
      "Epoch: 171 \tTraining Loss: 3.829246 \tValidation Loss: 4.092724 \tValidation Accuracy: 4.891270\n",
      "Epoch: 172 \tTraining Loss: 3.786911 \tValidation Loss: 4.095738 \tValidation Accuracy: 4.919928\n",
      "Epoch: 173 \tTraining Loss: 3.784518 \tValidation Loss: 4.118988 \tValidation Accuracy: 4.935793\n",
      "Epoch: 174 \tTraining Loss: 3.771987 \tValidation Loss: 4.116381 \tValidation Accuracy: 4.956294\n",
      "Epoch: 175 \tTraining Loss: 3.765835 \tValidation Loss: 4.147020 \tValidation Accuracy: 4.975877\n",
      "Epoch: 176 \tTraining Loss: 3.770134 \tValidation Loss: 4.106996 \tValidation Accuracy: 4.993195\n",
      "Epoch: 177 \tTraining Loss: 3.770224 \tValidation Loss: 4.116591 \tValidation Accuracy: 5.013025\n",
      "Epoch: 178 \tTraining Loss: 3.728404 \tValidation Loss: 4.077125 \tValidation Accuracy: 5.038687\n",
      "Epoch: 179 \tTraining Loss: 3.741863 \tValidation Loss: 4.124872 \tValidation Accuracy: 5.057371\n",
      "Epoch: 180 \tTraining Loss: 3.759200 \tValidation Loss: 4.086443 \tValidation Accuracy: 5.078510\n",
      "Epoch: 181 \tTraining Loss: 3.728881 \tValidation Loss: 4.139641 \tValidation Accuracy: 5.099414\n",
      "Epoch: 182 \tTraining Loss: 3.719232 \tValidation Loss: 4.071069 \tValidation Accuracy: 5.127986\n",
      "Epoch: 183 \tTraining Loss: 3.735832 \tValidation Loss: 4.134961 \tValidation Accuracy: 5.142502\n",
      "Epoch: 184 \tTraining Loss: 3.694988 \tValidation Loss: 4.057529 \tValidation Accuracy: 5.165972\n",
      "Epoch: 185 \tTraining Loss: 3.711285 \tValidation Loss: 4.045784 \tValidation Accuracy: 5.182068\n",
      "Epoch: 186 \tTraining Loss: 3.700440 \tValidation Loss: 4.035214 \tValidation Accuracy: 5.213444\n",
      "Epoch: 187 \tTraining Loss: 3.713903 \tValidation Loss: 4.069977 \tValidation Accuracy: 5.233597\n",
      "Epoch: 188 \tTraining Loss: 3.708422 \tValidation Loss: 4.087810 \tValidation Accuracy: 5.255447\n",
      "Epoch: 189 \tTraining Loss: 3.682284 \tValidation Loss: 4.072077 \tValidation Accuracy: 5.268194\n",
      "Epoch: 190 \tTraining Loss: 3.701727 \tValidation Loss: 4.060647 \tValidation Accuracy: 5.292783\n",
      "Epoch: 191 \tTraining Loss: 3.692966 \tValidation Loss: 4.067240 \tValidation Accuracy: 5.317741\n",
      "Epoch: 192 \tTraining Loss: 3.676061 \tValidation Loss: 4.039976 \tValidation Accuracy: 5.336203\n",
      "Epoch: 193 \tTraining Loss: 3.675046 \tValidation Loss: 4.082298 \tValidation Accuracy: 5.357575\n",
      "Epoch: 194 \tTraining Loss: 3.656907 \tValidation Loss: 4.047762 \tValidation Accuracy: 5.372554\n",
      "Epoch: 195 \tTraining Loss: 3.659859 \tValidation Loss: 4.073039 \tValidation Accuracy: 5.384308\n",
      "Epoch: 196 \tTraining Loss: 3.669619 \tValidation Loss: 4.030258 \tValidation Accuracy: 5.401442\n",
      "Epoch: 197 \tTraining Loss: 3.636013 \tValidation Loss: 4.021617 \tValidation Accuracy: 5.428736\n",
      "Epoch: 198 \tTraining Loss: 3.607924 \tValidation Loss: 4.021764 \tValidation Accuracy: 5.447892\n",
      "Epoch: 199 \tTraining Loss: 3.653014 \tValidation Loss: 4.027783 \tValidation Accuracy: 5.471670\n",
      "Epoch: 200 \tTraining Loss: 3.598336 \tValidation Loss: 4.039530 \tValidation Accuracy: 5.490419\n",
      "Epoch: 201 \tTraining Loss: 3.615581 \tValidation Loss: 4.020327 \tValidation Accuracy: 5.513749\n",
      "Epoch: 202 \tTraining Loss: 3.592008 \tValidation Loss: 4.014199 \tValidation Accuracy: 5.534476\n",
      "Epoch: 203 \tTraining Loss: 3.584552 \tValidation Loss: 4.053055 \tValidation Accuracy: 5.550279\n",
      "Epoch: 204 \tTraining Loss: 3.605174 \tValidation Loss: 4.068951 \tValidation Accuracy: 5.570623\n",
      "Epoch: 205 \tTraining Loss: 3.576563 \tValidation Loss: 3.976563 \tValidation Accuracy: 5.597780\n",
      "Epoch: 206 \tTraining Loss: 3.595612 \tValidation Loss: 4.046586 \tValidation Accuracy: 5.615371\n",
      "Epoch: 207 \tTraining Loss: 3.583784 \tValidation Loss: 3.976213 \tValidation Accuracy: 5.632792\n",
      "Epoch: 208 \tTraining Loss: 3.582941 \tValidation Loss: 4.012356 \tValidation Accuracy: 5.649470\n",
      "Epoch: 209 \tTraining Loss: 3.571632 \tValidation Loss: 3.970572 \tValidation Accuracy: 5.676303\n",
      "Epoch: 210 \tTraining Loss: 3.559407 \tValidation Loss: 4.058072 \tValidation Accuracy: 5.692615\n",
      "Epoch: 211 \tTraining Loss: 3.592970 \tValidation Loss: 4.000300 \tValidation Accuracy: 5.712745\n",
      "Epoch: 212 \tTraining Loss: 3.589015 \tValidation Loss: 4.030813 \tValidation Accuracy: 5.727036\n",
      "Epoch: 213 \tTraining Loss: 3.547368 \tValidation Loss: 4.051563 \tValidation Accuracy: 5.742318\n",
      "Epoch: 214 \tTraining Loss: 3.559373 \tValidation Loss: 4.007505 \tValidation Accuracy: 5.757457\n",
      "Epoch: 215 \tTraining Loss: 3.538662 \tValidation Loss: 3.983643 \tValidation Accuracy: 5.776354\n",
      "Epoch: 216 \tTraining Loss: 3.528767 \tValidation Loss: 4.038404 \tValidation Accuracy: 5.786205\n",
      "Epoch: 217 \tTraining Loss: 3.517386 \tValidation Loss: 3.977580 \tValidation Accuracy: 5.806452\n",
      "Epoch: 218 \tTraining Loss: 3.531313 \tValidation Loss: 4.012578 \tValidation Accuracy: 5.823216\n",
      "Epoch: 219 \tTraining Loss: 3.520049 \tValidation Loss: 4.008932 \tValidation Accuracy: 5.835999\n",
      "Epoch: 220 \tTraining Loss: 3.495922 \tValidation Loss: 3.974050 \tValidation Accuracy: 5.855199\n",
      "Epoch: 221 \tTraining Loss: 3.479124 \tValidation Loss: 4.022565 \tValidation Accuracy: 5.873141\n",
      "Epoch: 222 \tTraining Loss: 3.506943 \tValidation Loss: 3.999432 \tValidation Accuracy: 5.895776\n",
      "Epoch: 223 \tTraining Loss: 3.496641 \tValidation Loss: 3.949164 \tValidation Accuracy: 5.913912\n",
      "Epoch: 224 \tTraining Loss: 3.492117 \tValidation Loss: 4.068584 \tValidation Accuracy: 5.928678\n",
      "Epoch: 225 \tTraining Loss: 3.479025 \tValidation Loss: 4.010494 \tValidation Accuracy: 5.949701\n",
      "Epoch: 226 \tTraining Loss: 3.479768 \tValidation Loss: 4.038422 \tValidation Accuracy: 5.963118\n",
      "Epoch: 227 \tTraining Loss: 3.473467 \tValidation Loss: 4.005161 \tValidation Accuracy: 5.978528\n",
      "Epoch: 228 \tTraining Loss: 3.475405 \tValidation Loss: 4.008047 \tValidation Accuracy: 5.997479\n",
      "Epoch: 229 \tTraining Loss: 3.431635 \tValidation Loss: 4.037668 \tValidation Accuracy: 6.010512\n",
      "Epoch: 230 \tTraining Loss: 3.432604 \tValidation Loss: 3.944960 \tValidation Accuracy: 6.027076\n",
      "Epoch: 231 \tTraining Loss: 3.478246 \tValidation Loss: 4.001677 \tValidation Accuracy: 6.038313\n",
      "Epoch: 232 \tTraining Loss: 3.448058 \tValidation Loss: 3.993002 \tValidation Accuracy: 6.053582\n",
      "Epoch: 233 \tTraining Loss: 3.414895 \tValidation Loss: 3.961176 \tValidation Accuracy: 6.073347\n",
      "Epoch: 234 \tTraining Loss: 3.423721 \tValidation Loss: 4.006955 \tValidation Accuracy: 6.091919\n",
      "Epoch: 235 \tTraining Loss: 3.439458 \tValidation Loss: 3.960396 \tValidation Accuracy: 6.109313\n",
      "Epoch: 236 \tTraining Loss: 3.393210 \tValidation Loss: 3.991027 \tValidation Accuracy: 6.130620\n",
      "Epoch: 237 \tTraining Loss: 3.429129 \tValidation Loss: 3.977577 \tValidation Accuracy: 6.155790\n",
      "Epoch: 238 \tTraining Loss: 3.393116 \tValidation Loss: 3.981567 \tValidation Accuracy: 6.175716\n",
      "Epoch: 239 \tTraining Loss: 3.419396 \tValidation Loss: 4.003803 \tValidation Accuracy: 6.187458\n",
      "Epoch: 240 \tTraining Loss: 3.413674 \tValidation Loss: 3.884477 \tValidation Accuracy: 6.214571\n",
      "Epoch: 241 \tTraining Loss: 3.409231 \tValidation Loss: 4.008877 \tValidation Accuracy: 6.226054\n",
      "Epoch: 242 \tTraining Loss: 3.380367 \tValidation Loss: 3.960272 \tValidation Accuracy: 6.241896\n",
      "Epoch: 243 \tTraining Loss: 3.377679 \tValidation Loss: 3.981557 \tValidation Accuracy: 6.252680\n",
      "Epoch: 244 \tTraining Loss: 3.351337 \tValidation Loss: 3.927392 \tValidation Accuracy: 6.271228\n",
      "Epoch: 245 \tTraining Loss: 3.337668 \tValidation Loss: 4.004786 \tValidation Accuracy: 6.281804\n",
      "Epoch: 246 \tTraining Loss: 3.342791 \tValidation Loss: 4.017981 \tValidation Accuracy: 6.289859\n",
      "Epoch: 247 \tTraining Loss: 3.344606 \tValidation Loss: 3.989302 \tValidation Accuracy: 6.313850\n",
      "Epoch: 248 \tTraining Loss: 3.356205 \tValidation Loss: 3.940933 \tValidation Accuracy: 6.332818\n",
      "Epoch: 249 \tTraining Loss: 3.356083 \tValidation Loss: 3.938275 \tValidation Accuracy: 6.355001\n",
      "Epoch: 250 \tTraining Loss: 3.333505 \tValidation Loss: 3.993502 \tValidation Accuracy: 6.374611\n",
      "Epoch: 251 \tTraining Loss: 3.325341 \tValidation Loss: 4.013399 \tValidation Accuracy: 6.389770\n",
      "Epoch: 252 \tTraining Loss: 3.319654 \tValidation Loss: 3.938750 \tValidation Accuracy: 6.408136\n",
      "Epoch: 253 \tTraining Loss: 3.300279 \tValidation Loss: 3.995460 \tValidation Accuracy: 6.428724\n",
      "Epoch: 254 \tTraining Loss: 3.315623 \tValidation Loss: 4.005507 \tValidation Accuracy: 6.441605\n",
      "Epoch: 255 \tTraining Loss: 3.316379 \tValidation Loss: 3.943687 \tValidation Accuracy: 6.460960\n",
      "Epoch: 256 \tTraining Loss: 3.312566 \tValidation Loss: 3.950633 \tValidation Accuracy: 6.473147\n",
      "Epoch: 257 \tTraining Loss: 3.301498 \tValidation Loss: 4.038296 \tValidation Accuracy: 6.486638\n",
      "Epoch: 258 \tTraining Loss: 3.296878 \tValidation Loss: 3.912035 \tValidation Accuracy: 6.506058\n",
      "Epoch: 259 \tTraining Loss: 3.292913 \tValidation Loss: 4.019599 \tValidation Accuracy: 6.522553\n",
      "Epoch: 260 \tTraining Loss: 3.299337 \tValidation Loss: 3.950137 \tValidation Accuracy: 6.544910\n",
      "Epoch: 261 \tTraining Loss: 3.292271 \tValidation Loss: 3.933327 \tValidation Accuracy: 6.562507\n"
     ]
    }
   ],
   "source": [
    "# the following import is required for training to be robust to truncated images\n",
    "import numpy as np\n",
    "from PIL import ImageFile\n",
    "ImageFile.LOAD_TRUNCATED_IMAGES = True\n",
    "\n",
    "def train(n_epochs, loaders, model, optimizer, criterion, use_cuda, save_path):\n",
    "    \"\"\"returns trained model\"\"\"\n",
    "    # initialize tracker for minimum validation loss\n",
    "    valid_loss_min = np.Inf \n",
    "    correct = 0.\n",
    "    total = 0.\n",
    "\n",
    "    for epoch in range(1, n_epochs+1):\n",
    "        # initialize variables to monitor training and validation loss\n",
    "        train_loss = 0.0\n",
    "        valid_loss = 0.0\n",
    "        \n",
    "        ###################\n",
    "        # train the model #\n",
    "        ###################\n",
    "        model.train()\n",
    "        for batch_idx, (data, target) in enumerate(loaders['train']):\n",
    "            # move to GPU\n",
    "            if use_cuda:\n",
    "                data, target = data.cuda(), target.cuda()\n",
    "            ## find the loss and update the model parameters accordingly\n",
    "            ## record the average training loss, using something like\n",
    "            ## train_loss = train_loss + ((1 / (batch_idx + 1)) * (loss.data - train_loss))\n",
    "            \n",
    "            # clear the gradients of all optimized variables\n",
    "            optimizer.zero_grad()\n",
    "            # forward pass: compute predicted outputs by passing inputs to the model\n",
    "            output = model(data)\n",
    "            # calculate the batch loss\n",
    "            loss = criterion(output, target)\n",
    "            # backward pass: compute gradient of the loss with respect to model parameters\n",
    "            loss.backward()\n",
    "            # perform a single optimization step (parameter update)\n",
    "            optimizer.step()\n",
    "            # update training loss\n",
    "            train_loss += ((1 / (batch_idx + 1)) * (loss.data - train_loss))\n",
    "\n",
    "            \n",
    "        ######################    \n",
    "        # validate the model #\n",
    "        ######################\n",
    "        model.eval()\n",
    "        for batch_idx, (data, target) in enumerate(loaders['valid']):\n",
    "            # move to GPU\n",
    "            if use_cuda:\n",
    "                data, target = data.cuda(), target.cuda()\n",
    "            ## update the average validation loss\n",
    "            \n",
    "            # forward pass: compute predicted outputs by passing inputs to the model\n",
    "            output = model(data)\n",
    "            # calculate the batch loss\n",
    "            loss = criterion(output, target)\n",
    "            # update average validation loss \n",
    "            valid_loss += ((1 / (batch_idx + 1)) * (loss.data - valid_loss))\n",
    "            # convert output probabilities to predicted class\n",
    "            pred = output.data.max(1, keepdim=True)[1]\n",
    "            # compare predictions to true label\n",
    "            correct += np.sum(np.squeeze(pred.eq(target.data.view_as(pred))).cpu().numpy())\n",
    "            total += data.size(0)\n",
    "\n",
    "\n",
    "        # print training/validation statistics \n",
    "        print('Epoch: {} \\tTraining Loss: {:.6f} \\tValidation Loss: {:.6f} \\tValidation Accuracy: {:02f}'.format(\n",
    "            epoch, \n",
    "            train_loss,\n",
    "            valid_loss,\n",
    "            100. * correct / total\n",
    "            ))\n",
    "        \n",
    "        ## TODO: save the model if validation loss has decreased\n",
    "        if valid_loss < valid_loss_min:      \n",
    "            torch.save(model.state_dict(), save_path)\n",
    "            valid_loss_min = valid_loss\n",
    "            \n",
    "    # return trained model\n",
    "    return model\n",
    "\n",
    "\n",
    "# train the model\n",
    "model_scratch = train(400, loaders_scratch, model_scratch, optimizer_scratch, \n",
    "                      criterion_scratch, use_cuda, '/content/drive/My Drive/Colab Notebooks/model_scratch.pt')\n",
    "\n",
    "# load the model that got the best validation accuracy\n",
    "model_scratch.load_state_dict(torch.load('/content/drive/My Drive/Colab Notebooks/model_scratch.pt'))"
   ]
  },
  {
   "cell_type": "markdown",
   "metadata": {
    "colab_type": "text",
    "id": "gjaTTRG3RKgL"
   },
   "source": [
    "### (IMPLEMENTATION) Test the Model\n",
    "\n",
    "Try out your model on the test dataset of dog images.  Use the code cell below to calculate and print the test loss and accuracy.  Ensure that your test accuracy is greater than 10%."
   ]
  },
  {
   "cell_type": "code",
   "execution_count": 7,
   "metadata": {
    "colab": {
     "base_uri": "https://localhost:8080/",
     "height": 84
    },
    "colab_type": "code",
    "executionInfo": {
     "elapsed": 102828,
     "status": "ok",
     "timestamp": 1579760693169,
     "user": {
      "displayName": "Joanna Muras",
      "photoUrl": "",
      "userId": "08900016511846412259"
     },
     "user_tz": -60
    },
    "id": "peB1zpG4RKgM",
    "outputId": "b29eca69-0567-435c-88c5-12f94d16c8c2"
   },
   "outputs": [
    {
     "name": "stdout",
     "output_type": "stream",
     "text": [
      "Test Loss: 3.916158\n",
      "\n",
      "\n",
      "Test Accuracy: 11% (100/836)\n"
     ]
    }
   ],
   "source": [
    "def test(loaders, model, criterion, use_cuda):\n",
    "\n",
    "    # monitor test loss and accuracy\n",
    "    test_loss = 0.\n",
    "    correct = 0.\n",
    "    total = 0.\n",
    "\n",
    "    model.eval()\n",
    "    for batch_idx, (data, target) in enumerate(loaders['test']):\n",
    "        # move to GPU\n",
    "        if use_cuda:\n",
    "            data, target = data.cuda(), target.cuda()\n",
    "        # forward pass: compute predicted outputs by passing inputs to the model\n",
    "        output = model(data)\n",
    "        # calculate the loss\n",
    "        loss = criterion(output, target)\n",
    "        # update average test loss \n",
    "        test_loss = test_loss + ((1 / (batch_idx + 1)) * (loss.data - test_loss))\n",
    "        # convert output probabilities to predicted class\n",
    "        pred = output.data.max(1, keepdim=True)[1]\n",
    "        # compare predictions to true label\n",
    "        correct += np.sum(np.squeeze(pred.eq(target.data.view_as(pred))).cpu().numpy())\n",
    "        total += data.size(0)\n",
    "            \n",
    "    print('Test Loss: {:.6f}\\n'.format(test_loss))\n",
    "\n",
    "    print('\\nTest Accuracy: %2d%% (%2d/%2d)' % (\n",
    "        100. * correct / total, correct, total))\n",
    "\n",
    "# call test function    \n",
    "test(loaders_scratch, model_scratch, criterion_scratch, use_cuda)"
   ]
  },
  {
   "cell_type": "markdown",
   "metadata": {
    "colab_type": "text",
    "id": "-IKQb2xqRKgP"
   },
   "source": [
    "---\n",
    "<a id='step4'></a>\n",
    "## Step 4: Create a CNN to Classify Dog Breeds (using Transfer Learning)\n",
    "\n",
    "You will now use transfer learning to create a CNN that can identify dog breed from images.  Your CNN must attain at least 60% accuracy on the test set.\n",
    "\n",
    "### (IMPLEMENTATION) Specify Data Loaders for the Dog Dataset\n",
    "\n",
    "Use the code cell below to write three separate [data loaders](http://pytorch.org/docs/master/data.html#torch.utils.data.DataLoader) for the training, validation, and test datasets of dog images (located at `dogImages/train`, `dogImages/valid`, and `dogImages/test`, respectively). \n",
    "\n",
    "If you like, **you are welcome to use the same data loaders from the previous step**, when you created a CNN from scratch."
   ]
  },
  {
   "cell_type": "code",
   "execution_count": 0,
   "metadata": {
    "colab": {},
    "colab_type": "code",
    "id": "5Z0t6zXCRKgQ"
   },
   "outputs": [],
   "source": [
    "## TODO: Specify data loaders\n",
    "import os\n",
    "from torchvision import datasets\n",
    "from torchvision import transforms\n",
    "from torch.utils import data\n",
    "\n",
    "import matplotlib.pyplot as plt\n",
    "\n",
    "data_transform = transforms.Compose([\n",
    "    transforms.RandomResizedCrop(224),\n",
    "    transforms.ToTensor(),\n",
    "    transforms.Normalize(mean=[0.485, 0.456, 0.406], std=[0.229, 0.224, 0.225])\n",
    "])\n",
    "\n",
    "data_transform_train = transforms.Compose([\n",
    "    transforms.RandomResizedCrop(224),\n",
    "    transforms.RandomRotation((0, 90)),\n",
    "    transforms.ToTensor(),\n",
    "    transforms.Normalize(mean=[0.485, 0.456, 0.406], std=[0.229, 0.224, 0.225])\n",
    "])\n",
    "\n",
    "loaders_transfer = {}\n",
    "data_transfer = {}\n",
    "batch_size = 10\n",
    "num_workers = 2\n",
    "\n",
    "train_dataset = datasets.ImageFolder(root='/content/drive/My Drive/Colab Notebooks/data/dogImages/train', transform=data_transform_train)\n",
    "data_transfer['train'] = train_dataset\n",
    "loaders_transfer['train'] = data.DataLoader(train_dataset, batch_size=batch_size, shuffle=True, num_workers=num_workers)\n",
    "\n",
    "valid_dataset = datasets.ImageFolder(root='/content/drive/My Drive/Colab Notebooks/data/dogImages/valid', transform=data_transform)\n",
    "data_transfer['valid'] = valid_dataset\n",
    "loaders_transfer['valid'] = data.DataLoader(valid_dataset, batch_size=batch_size, shuffle=True, num_workers=num_workers)\n",
    "\n",
    "test_dataset = datasets.ImageFolder(root='/content/drive/My Drive/Colab Notebooks/data/dogImages/test', transform=data_transform)\n",
    "data_transfer['test'] = test_dataset\n",
    "loaders_transfer['test'] = data.DataLoader(test_dataset, batch_size=batch_size, shuffle=True, num_workers=num_workers)\n"
   ]
  },
  {
   "cell_type": "markdown",
   "metadata": {
    "colab_type": "text",
    "id": "u0DT_gRsRKgU"
   },
   "source": [
    "### (IMPLEMENTATION) Model Architecture\n",
    "\n",
    "Use transfer learning to create a CNN to classify dog breed.  Use the code cell below, and save your initialized model as the variable `model_transfer`."
   ]
  },
  {
   "cell_type": "code",
   "execution_count": 0,
   "metadata": {
    "colab": {},
    "colab_type": "code",
    "id": "AUJgSHWVRKgV"
   },
   "outputs": [],
   "source": [
    "import torchvision.models as models\n",
    "import torch.nn as nn\n",
    "\n",
    "## TODO: Specify model architecture \n",
    "model_transfer = models.vgg16(pretrained=True)\n",
    "\n",
    "for param in model_transfer.features.parameters():\n",
    "    param.requires_grad = False\n",
    "\n",
    "model_transfer.classifier[6] = nn.Linear(model_transfer.classifier[6].in_features, 133)\n",
    "\n",
    "if use_cuda:\n",
    "    model_transfer = model_transfer.cuda()"
   ]
  },
  {
   "cell_type": "markdown",
   "metadata": {
    "colab_type": "text",
    "id": "GOxgEH5HRKgY"
   },
   "source": [
    "__Question 5:__ Outline the steps you took to get to your final CNN architecture and your reasoning at each step.  Describe why you think the architecture is suitable for the current problem."
   ]
  },
  {
   "cell_type": "markdown",
   "metadata": {
    "colab_type": "text",
    "id": "x2tRBa5kRKgZ"
   },
   "source": [
    "__Answer:__ \n",
    "I looked on models available in PyTorch and decided to use VGG16 model. I selected that model because it is sutable for image recognition and among other things it recognizes dog's breeds as well. Therefore set of features it calculates should contain some dog breeds characteristics. I decided to modify only last fully connected layer, so it returns 133 classes, which correspond to dog's breeds. Then I initialized learning process only for fully connected layer."
   ]
  },
  {
   "cell_type": "markdown",
   "metadata": {
    "colab_type": "text",
    "id": "-UMY8XSaRKga"
   },
   "source": [
    "### (IMPLEMENTATION) Specify Loss Function and Optimizer\n",
    "\n",
    "Use the next code cell to specify a [loss function](http://pytorch.org/docs/master/nn.html#loss-functions) and [optimizer](http://pytorch.org/docs/master/optim.html).  Save the chosen loss function as `criterion_transfer`, and the optimizer as `optimizer_transfer` below."
   ]
  },
  {
   "cell_type": "code",
   "execution_count": 0,
   "metadata": {
    "colab": {},
    "colab_type": "code",
    "id": "n6a3qdqRRKgb"
   },
   "outputs": [],
   "source": [
    "import torch.optim as optim\n",
    "\n",
    "learning_rate = 0.001\n",
    "\n",
    "### TODO: select loss function\n",
    "criterion_transfer = nn.CrossEntropyLoss()\n",
    "\n",
    "### TODO: select optimizer\n",
    "optimizer_transfer = optim.SGD(model_transfer.parameters(), lr=learning_rate)"
   ]
  },
  {
   "cell_type": "markdown",
   "metadata": {
    "colab_type": "text",
    "id": "CYnKjJyRRKge"
   },
   "source": [
    "### (IMPLEMENTATION) Train and Validate the Model\n",
    "\n",
    "Train and validate your model in the code cell below.  [Save the final model parameters](http://pytorch.org/docs/master/notes/serialization.html) at filepath `'model_transfer.pt'`."
   ]
  },
  {
   "cell_type": "code",
   "execution_count": 5,
   "metadata": {
    "colab": {
     "base_uri": "https://localhost:8080/",
     "height": 1000
    },
    "colab_type": "code",
    "executionInfo": {
     "elapsed": 15301903,
     "status": "ok",
     "timestamp": 1579791835004,
     "user": {
      "displayName": "Joanna Muras",
      "photoUrl": "",
      "userId": "08900016511846412259"
     },
     "user_tz": -60
    },
    "id": "ouIrkk7DRKgf",
    "outputId": "51bc5a4b-cd01-4a70-bd62-09f11f40f421"
   },
   "outputs": [
    {
     "name": "stdout",
     "output_type": "stream",
     "text": [
      "Epoch: 1 \tTraining Loss: 4.350549 \tValidation Loss: 3.048523 \tValidation Accuracy: 43.952096\n",
      "Epoch: 2 \tTraining Loss: 3.022008 \tValidation Loss: 1.852071 \tValidation Accuracy: 50.538922\n",
      "Epoch: 3 \tTraining Loss: 2.436795 \tValidation Loss: 1.395277 \tValidation Accuracy: 55.169661\n",
      "Epoch: 4 \tTraining Loss: 2.190438 \tValidation Loss: 1.250793 \tValidation Accuracy: 58.712575\n",
      "Epoch: 5 \tTraining Loss: 2.009026 \tValidation Loss: 1.243276 \tValidation Accuracy: 60.047904\n",
      "Epoch: 6 \tTraining Loss: 1.988504 \tValidation Loss: 1.092259 \tValidation Accuracy: 61.636727\n",
      "Epoch: 7 \tTraining Loss: 1.854950 \tValidation Loss: 1.067003 \tValidation Accuracy: 62.634731\n",
      "Epoch: 8 \tTraining Loss: 1.820828 \tValidation Loss: 1.048521 \tValidation Accuracy: 63.637725\n",
      "Epoch: 9 \tTraining Loss: 1.793996 \tValidation Loss: 0.986793 \tValidation Accuracy: 64.604125\n",
      "Epoch: 10 \tTraining Loss: 1.756487 \tValidation Loss: 1.014400 \tValidation Accuracy: 65.281437\n",
      "Epoch: 11 \tTraining Loss: 1.709455 \tValidation Loss: 0.993467 \tValidation Accuracy: 65.792052\n",
      "Epoch: 12 \tTraining Loss: 1.725079 \tValidation Loss: 0.972734 \tValidation Accuracy: 66.357285\n",
      "Epoch: 13 \tTraining Loss: 1.709674 \tValidation Loss: 0.978867 \tValidation Accuracy: 66.853984\n",
      "Epoch: 14 \tTraining Loss: 1.660839 \tValidation Loss: 0.950839 \tValidation Accuracy: 67.382378\n",
      "Epoch: 15 \tTraining Loss: 1.631993 \tValidation Loss: 0.916922 \tValidation Accuracy: 67.816367\n",
      "Epoch: 16 \tTraining Loss: 1.590955 \tValidation Loss: 0.944802 \tValidation Accuracy: 68.285928\n",
      "Epoch: 17 \tTraining Loss: 1.574732 \tValidation Loss: 0.954425 \tValidation Accuracy: 68.552307\n",
      "Epoch: 18 \tTraining Loss: 1.574804 \tValidation Loss: 1.034662 \tValidation Accuracy: 68.582834\n",
      "Epoch: 19 \tTraining Loss: 1.569586 \tValidation Loss: 0.959205 \tValidation Accuracy: 68.736212\n",
      "Epoch: 20 \tTraining Loss: 1.528988 \tValidation Loss: 0.866728 \tValidation Accuracy: 69.053892\n",
      "Epoch: 21 \tTraining Loss: 1.524658 \tValidation Loss: 0.936819 \tValidation Accuracy: 69.221557\n",
      "Epoch: 22 \tTraining Loss: 1.513015 \tValidation Loss: 0.875037 \tValidation Accuracy: 69.455634\n",
      "Epoch: 23 \tTraining Loss: 1.481418 \tValidation Loss: 0.883922 \tValidation Accuracy: 69.627701\n",
      "Epoch: 24 \tTraining Loss: 1.487957 \tValidation Loss: 0.950757 \tValidation Accuracy: 69.760479\n",
      "Epoch: 25 \tTraining Loss: 1.473754 \tValidation Loss: 0.922161 \tValidation Accuracy: 69.897006\n",
      "Epoch: 26 \tTraining Loss: 1.455523 \tValidation Loss: 0.979282 \tValidation Accuracy: 70.013819\n",
      "Epoch: 27 \tTraining Loss: 1.466012 \tValidation Loss: 0.876578 \tValidation Accuracy: 70.170770\n",
      "Epoch: 28 \tTraining Loss: 1.459650 \tValidation Loss: 0.919370 \tValidation Accuracy: 70.256630\n",
      "Epoch: 29 \tTraining Loss: 1.423060 \tValidation Loss: 0.860250 \tValidation Accuracy: 70.410902\n",
      "Epoch: 30 \tTraining Loss: 1.405744 \tValidation Loss: 0.899574 \tValidation Accuracy: 70.479042\n",
      "Epoch: 31 \tTraining Loss: 1.432563 \tValidation Loss: 0.856633 \tValidation Accuracy: 70.604597\n",
      "Epoch: 32 \tTraining Loss: 1.400478 \tValidation Loss: 0.878073 \tValidation Accuracy: 70.733533\n",
      "Epoch: 33 \tTraining Loss: 1.383176 \tValidation Loss: 0.868487 \tValidation Accuracy: 70.851025\n",
      "Epoch: 34 \tTraining Loss: 1.372401 \tValidation Loss: 0.911573 \tValidation Accuracy: 70.922860\n",
      "Epoch: 35 \tTraining Loss: 1.379999 \tValidation Loss: 0.862773 \tValidation Accuracy: 71.024808\n",
      "Epoch: 36 \tTraining Loss: 1.382046 \tValidation Loss: 0.867083 \tValidation Accuracy: 71.091151\n",
      "Epoch: 37 \tTraining Loss: 1.365462 \tValidation Loss: 0.864638 \tValidation Accuracy: 71.195986\n",
      "Epoch: 38 \tTraining Loss: 1.363595 \tValidation Loss: 0.969619 \tValidation Accuracy: 71.210211\n",
      "Epoch: 39 \tTraining Loss: 1.348352 \tValidation Loss: 0.888406 \tValidation Accuracy: 71.288193\n",
      "Epoch: 40 \tTraining Loss: 1.358488 \tValidation Loss: 0.828097 \tValidation Accuracy: 71.383234\n",
      "Epoch: 41 \tTraining Loss: 1.341664 \tValidation Loss: 0.826655 \tValidation Accuracy: 71.482401\n",
      "Epoch: 42 \tTraining Loss: 1.343980 \tValidation Loss: 0.858087 \tValidation Accuracy: 71.582549\n",
      "Epoch: 43 \tTraining Loss: 1.320033 \tValidation Loss: 0.906909 \tValidation Accuracy: 71.622337\n",
      "Epoch: 44 \tTraining Loss: 1.342481 \tValidation Loss: 0.932043 \tValidation Accuracy: 71.654872\n",
      "Epoch: 45 \tTraining Loss: 1.288690 \tValidation Loss: 0.900238 \tValidation Accuracy: 71.693945\n",
      "Epoch: 46 \tTraining Loss: 1.321352 \tValidation Loss: 0.915504 \tValidation Accuracy: 71.720906\n",
      "Epoch: 47 \tTraining Loss: 1.320359 \tValidation Loss: 0.858901 \tValidation Accuracy: 71.772200\n",
      "Epoch: 48 \tTraining Loss: 1.293133 \tValidation Loss: 0.871253 \tValidation Accuracy: 71.841317\n",
      "Epoch: 49 \tTraining Loss: 1.280491 \tValidation Loss: 0.811483 \tValidation Accuracy: 71.924722\n",
      "Epoch: 50 \tTraining Loss: 1.277678 \tValidation Loss: 0.842175 \tValidation Accuracy: 72.002395\n",
      "Epoch: 51 \tTraining Loss: 1.272234 \tValidation Loss: 0.918432 \tValidation Accuracy: 72.025361\n",
      "Epoch: 52 \tTraining Loss: 1.247608 \tValidation Loss: 0.861602 \tValidation Accuracy: 72.077384\n",
      "Epoch: 53 \tTraining Loss: 1.294649 \tValidation Loss: 0.875606 \tValidation Accuracy: 72.122924\n",
      "Epoch: 54 \tTraining Loss: 1.243491 \tValidation Loss: 0.786732 \tValidation Accuracy: 72.171213\n",
      "Epoch: 55 \tTraining Loss: 1.243947 \tValidation Loss: 0.847915 \tValidation Accuracy: 72.228634\n",
      "Epoch: 56 \tTraining Loss: 1.225638 \tValidation Loss: 0.910021 \tValidation Accuracy: 72.258340\n",
      "Epoch: 57 \tTraining Loss: 1.229640 \tValidation Loss: 0.833956 \tValidation Accuracy: 72.299611\n",
      "Epoch: 58 \tTraining Loss: 1.246513 \tValidation Loss: 0.822229 \tValidation Accuracy: 72.349783\n",
      "Epoch: 59 \tTraining Loss: 1.233181 \tValidation Loss: 0.874539 \tValidation Accuracy: 72.369837\n",
      "Epoch: 60 \tTraining Loss: 1.251836 \tValidation Loss: 0.839039 \tValidation Accuracy: 72.443114\n",
      "Epoch: 61 \tTraining Loss: 1.228976 \tValidation Loss: 0.916061 \tValidation Accuracy: 72.470796\n",
      "Epoch: 62 \tTraining Loss: 1.205238 \tValidation Loss: 0.814595 \tValidation Accuracy: 72.532355\n",
      "Epoch: 63 \tTraining Loss: 1.219204 \tValidation Loss: 0.877125 \tValidation Accuracy: 72.586256\n",
      "Epoch: 64 \tTraining Loss: 1.184932 \tValidation Loss: 0.833166 \tValidation Accuracy: 72.621632\n",
      "Epoch: 65 \tTraining Loss: 1.179863 \tValidation Loss: 0.882737 \tValidation Accuracy: 72.655919\n",
      "Epoch: 66 \tTraining Loss: 1.178546 \tValidation Loss: 0.894260 \tValidation Accuracy: 72.661949\n",
      "Epoch: 67 \tTraining Loss: 1.179698 \tValidation Loss: 0.821752 \tValidation Accuracy: 72.694611\n",
      "Epoch: 68 \tTraining Loss: 1.175331 \tValidation Loss: 0.906829 \tValidation Accuracy: 72.692850\n",
      "Epoch: 69 \tTraining Loss: 1.188597 \tValidation Loss: 0.785788 \tValidation Accuracy: 72.725853\n",
      "Epoch: 70 \tTraining Loss: 1.166398 \tValidation Loss: 0.923929 \tValidation Accuracy: 72.727117\n",
      "Epoch: 71 \tTraining Loss: 1.155743 \tValidation Loss: 0.892187 \tValidation Accuracy: 72.728346\n",
      "Epoch: 72 \tTraining Loss: 1.179028 \tValidation Loss: 0.877222 \tValidation Accuracy: 72.751164\n",
      "Epoch: 73 \tTraining Loss: 1.167311 \tValidation Loss: 0.913024 \tValidation Accuracy: 72.766795\n",
      "Epoch: 74 \tTraining Loss: 1.169264 \tValidation Loss: 0.902663 \tValidation Accuracy: 72.786859\n",
      "Epoch: 75 \tTraining Loss: 1.161647 \tValidation Loss: 0.804652 \tValidation Accuracy: 72.811178\n",
      "Epoch: 76 \tTraining Loss: 1.155036 \tValidation Loss: 0.885070 \tValidation Accuracy: 72.814371\n",
      "Epoch: 77 \tTraining Loss: 1.164256 \tValidation Loss: 0.869039 \tValidation Accuracy: 72.847033\n",
      "Epoch: 78 \tTraining Loss: 1.151888 \tValidation Loss: 0.904351 \tValidation Accuracy: 72.857362\n",
      "Epoch: 79 \tTraining Loss: 1.120381 \tValidation Loss: 0.879150 \tValidation Accuracy: 72.900781\n",
      "Epoch: 80 \tTraining Loss: 1.137585 \tValidation Loss: 0.887680 \tValidation Accuracy: 72.920659\n",
      "Epoch: 81 \tTraining Loss: 1.133347 \tValidation Loss: 0.887100 \tValidation Accuracy: 72.954831\n",
      "Epoch: 82 \tTraining Loss: 1.124412 \tValidation Loss: 0.897556 \tValidation Accuracy: 72.977947\n",
      "Epoch: 83 \tTraining Loss: 1.128219 \tValidation Loss: 0.837869 \tValidation Accuracy: 72.999062\n",
      "Epoch: 84 \tTraining Loss: 1.129614 \tValidation Loss: 0.828445 \tValidation Accuracy: 73.051041\n",
      "Epoch: 85 \tTraining Loss: 1.113989 \tValidation Loss: 0.865107 \tValidation Accuracy: 73.049665\n",
      "Epoch: 86 \tTraining Loss: 1.141778 \tValidation Loss: 0.871239 \tValidation Accuracy: 73.074781\n",
      "Epoch: 87 \tTraining Loss: 1.121677 \tValidation Loss: 0.856440 \tValidation Accuracy: 73.091059\n",
      "Epoch: 88 \tTraining Loss: 1.124460 \tValidation Loss: 0.818129 \tValidation Accuracy: 73.121938\n",
      "Epoch: 89 \tTraining Loss: 1.119911 \tValidation Loss: 0.821620 \tValidation Accuracy: 73.150777\n",
      "Epoch: 90 \tTraining Loss: 1.127928 \tValidation Loss: 0.914855 \tValidation Accuracy: 73.160346\n",
      "Epoch: 91 \tTraining Loss: 1.074187 \tValidation Loss: 0.828309 \tValidation Accuracy: 73.192077\n",
      "Epoch: 92 \tTraining Loss: 1.111570 \tValidation Loss: 0.864336 \tValidation Accuracy: 73.208800\n",
      "Epoch: 93 \tTraining Loss: 1.090127 \tValidation Loss: 0.852935 \tValidation Accuracy: 73.235465\n",
      "Epoch: 94 \tTraining Loss: 1.093921 \tValidation Loss: 0.890560 \tValidation Accuracy: 73.244999\n",
      "Epoch: 95 \tTraining Loss: 1.114071 \tValidation Loss: 0.818762 \tValidation Accuracy: 73.282067\n",
      "Epoch: 96 \tTraining Loss: 1.110500 \tValidation Loss: 0.871621 \tValidation Accuracy: 73.297156\n",
      "Epoch: 97 \tTraining Loss: 1.071164 \tValidation Loss: 0.906091 \tValidation Accuracy: 73.315637\n",
      "Epoch: 98 \tTraining Loss: 1.078476 \tValidation Loss: 0.847184 \tValidation Accuracy: 73.327630\n",
      "Epoch: 99 \tTraining Loss: 1.090338 \tValidation Loss: 0.873513 \tValidation Accuracy: 73.349059\n",
      "Epoch: 100 \tTraining Loss: 1.096459 \tValidation Loss: 0.825962 \tValidation Accuracy: 73.373653\n",
      "Epoch: 101 \tTraining Loss: 1.051832 \tValidation Loss: 0.798784 \tValidation Accuracy: 73.393016\n",
      "Epoch: 102 \tTraining Loss: 1.058251 \tValidation Loss: 0.874341 \tValidation Accuracy: 73.404955\n",
      "Epoch: 103 \tTraining Loss: 1.065672 \tValidation Loss: 0.838769 \tValidation Accuracy: 73.428289\n",
      "Epoch: 104 \tTraining Loss: 1.067207 \tValidation Loss: 0.787508 \tValidation Accuracy: 73.447720\n",
      "Epoch: 105 \tTraining Loss: 1.069818 \tValidation Loss: 0.852506 \tValidation Accuracy: 73.466781\n",
      "Epoch: 106 \tTraining Loss: 1.033501 \tValidation Loss: 0.891365 \tValidation Accuracy: 73.468535\n",
      "Epoch: 107 \tTraining Loss: 1.056100 \tValidation Loss: 0.869576 \tValidation Accuracy: 73.475852\n",
      "Epoch: 108 \tTraining Loss: 1.053541 \tValidation Loss: 0.835647 \tValidation Accuracy: 73.491905\n",
      "Epoch: 109 \tTraining Loss: 1.058026 \tValidation Loss: 0.851428 \tValidation Accuracy: 73.508762\n",
      "Epoch: 110 \tTraining Loss: 1.049820 \tValidation Loss: 0.872159 \tValidation Accuracy: 73.527490\n",
      "Epoch: 111 \tTraining Loss: 1.029159 \tValidation Loss: 0.801336 \tValidation Accuracy: 73.553434\n",
      "Epoch: 112 \tTraining Loss: 1.052759 \tValidation Loss: 0.829640 \tValidation Accuracy: 73.586399\n",
      "Epoch: 113 \tTraining Loss: 1.048656 \tValidation Loss: 0.884582 \tValidation Accuracy: 73.596524\n",
      "Epoch: 114 \tTraining Loss: 1.037304 \tValidation Loss: 0.784785 \tValidation Accuracy: 73.623280\n",
      "Epoch: 115 \tTraining Loss: 1.029194 \tValidation Loss: 0.825595 \tValidation Accuracy: 73.647488\n",
      "Epoch: 116 \tTraining Loss: 1.021951 \tValidation Loss: 0.835324 \tValidation Accuracy: 73.655792\n",
      "Epoch: 117 \tTraining Loss: 1.037267 \tValidation Loss: 0.909042 \tValidation Accuracy: 73.666001\n",
      "Epoch: 118 \tTraining Loss: 1.034168 \tValidation Loss: 0.842677 \tValidation Accuracy: 73.688217\n",
      "Epoch: 119 \tTraining Loss: 1.011630 \tValidation Loss: 0.863215 \tValidation Accuracy: 73.697982\n",
      "Epoch: 120 \tTraining Loss: 1.053097 \tValidation Loss: 0.802961 \tValidation Accuracy: 73.714571\n",
      "Epoch: 121 \tTraining Loss: 1.020529 \tValidation Loss: 0.907416 \tValidation Accuracy: 73.715049\n",
      "Epoch: 122 \tTraining Loss: 1.041613 \tValidation Loss: 0.964690 \tValidation Accuracy: 73.719446\n",
      "Epoch: 123 \tTraining Loss: 1.024317 \tValidation Loss: 0.855272 \tValidation Accuracy: 73.734482\n",
      "Epoch: 124 \tTraining Loss: 1.022575 \tValidation Loss: 0.839153 \tValidation Accuracy: 73.745412\n",
      "Epoch: 125 \tTraining Loss: 1.032861 \tValidation Loss: 0.913314 \tValidation Accuracy: 73.755210\n",
      "Epoch: 126 \tTraining Loss: 0.984614 \tValidation Loss: 0.869581 \tValidation Accuracy: 73.764851\n",
      "Epoch: 127 \tTraining Loss: 1.035380 \tValidation Loss: 0.849176 \tValidation Accuracy: 73.779056\n",
      "Epoch: 128 \tTraining Loss: 0.980110 \tValidation Loss: 0.872390 \tValidation Accuracy: 73.790232\n",
      "Epoch: 129 \tTraining Loss: 0.976327 \tValidation Loss: 0.876102 \tValidation Accuracy: 73.796593\n",
      "Epoch: 130 \tTraining Loss: 0.987447 \tValidation Loss: 0.766225 \tValidation Accuracy: 73.819438\n",
      "Epoch: 131 \tTraining Loss: 1.022517 \tValidation Loss: 0.827656 \tValidation Accuracy: 73.838278\n",
      "Epoch: 132 \tTraining Loss: 0.971149 \tValidation Loss: 0.798763 \tValidation Accuracy: 73.870441\n",
      "Epoch: 133 \tTraining Loss: 1.009829 \tValidation Loss: 0.876827 \tValidation Accuracy: 73.868804\n",
      "Epoch: 134 \tTraining Loss: 0.960093 \tValidation Loss: 0.937074 \tValidation Accuracy: 73.864510\n",
      "Epoch: 135 \tTraining Loss: 0.977952 \tValidation Loss: 0.805697 \tValidation Accuracy: 73.890441\n",
      "Epoch: 136 \tTraining Loss: 0.945256 \tValidation Loss: 0.848456 \tValidation Accuracy: 73.883410\n",
      "Epoch: 137 \tTraining Loss: 0.984060 \tValidation Loss: 0.827487 \tValidation Accuracy: 73.903580\n",
      "Epoch: 138 \tTraining Loss: 0.967931 \tValidation Loss: 0.863880 \tValidation Accuracy: 73.909572\n",
      "Epoch: 139 \tTraining Loss: 0.993942 \tValidation Loss: 0.838410 \tValidation Accuracy: 73.920648\n",
      "Epoch: 140 \tTraining Loss: 0.958190 \tValidation Loss: 0.831148 \tValidation Accuracy: 73.921300\n",
      "Epoch: 141 \tTraining Loss: 0.958597 \tValidation Loss: 0.880443 \tValidation Accuracy: 73.937232\n",
      "Epoch: 142 \tTraining Loss: 0.958433 \tValidation Loss: 0.770863 \tValidation Accuracy: 73.960530\n",
      "Epoch: 143 \tTraining Loss: 0.945799 \tValidation Loss: 0.839779 \tValidation Accuracy: 73.965077\n",
      "Epoch: 144 \tTraining Loss: 0.973686 \tValidation Loss: 0.836786 \tValidation Accuracy: 73.986194\n",
      "Epoch: 145 \tTraining Loss: 0.967472 \tValidation Loss: 0.922112 \tValidation Accuracy: 73.989676\n",
      "Epoch: 146 \tTraining Loss: 0.984392 \tValidation Loss: 0.864949 \tValidation Accuracy: 73.996391\n",
      "Epoch: 147 \tTraining Loss: 0.984810 \tValidation Loss: 0.745232 \tValidation Accuracy: 74.027455\n",
      "Epoch: 148 \tTraining Loss: 0.966439 \tValidation Loss: 0.841016 \tValidation Accuracy: 74.039489\n",
      "Epoch: 149 \tTraining Loss: 0.942397 \tValidation Loss: 0.824959 \tValidation Accuracy: 74.049753\n",
      "Epoch: 150 \tTraining Loss: 0.966647 \tValidation Loss: 0.848369 \tValidation Accuracy: 74.051896\n",
      "Epoch: 151 \tTraining Loss: 0.957443 \tValidation Loss: 0.834324 \tValidation Accuracy: 74.071460\n",
      "Epoch: 152 \tTraining Loss: 0.959414 \tValidation Loss: 0.818835 \tValidation Accuracy: 74.089978\n",
      "Epoch: 153 \tTraining Loss: 0.927498 \tValidation Loss: 0.851661 \tValidation Accuracy: 74.098078\n",
      "Epoch: 154 \tTraining Loss: 0.979422 \tValidation Loss: 0.913471 \tValidation Accuracy: 74.091298\n",
      "Epoch: 155 \tTraining Loss: 0.962420 \tValidation Loss: 0.890850 \tValidation Accuracy: 74.092331\n",
      "Epoch: 156 \tTraining Loss: 0.925692 \tValidation Loss: 0.879071 \tValidation Accuracy: 74.101029\n",
      "Epoch: 157 \tTraining Loss: 0.965130 \tValidation Loss: 0.847183 \tValidation Accuracy: 74.121057\n",
      "Epoch: 158 \tTraining Loss: 0.950044 \tValidation Loss: 0.808831 \tValidation Accuracy: 74.137800\n",
      "Epoch: 159 \tTraining Loss: 0.943548 \tValidation Loss: 0.830338 \tValidation Accuracy: 74.140022\n",
      "Epoch: 160 \tTraining Loss: 0.905804 \tValidation Loss: 0.882916 \tValidation Accuracy: 74.142964\n",
      "Epoch: 161 \tTraining Loss: 0.937819 \tValidation Loss: 0.866552 \tValidation Accuracy: 74.151821\n",
      "Epoch: 162 \tTraining Loss: 0.894047 \tValidation Loss: 0.833897 \tValidation Accuracy: 74.164264\n",
      "Epoch: 163 \tTraining Loss: 0.926091 \tValidation Loss: 0.858849 \tValidation Accuracy: 74.171412\n",
      "Epoch: 164 \tTraining Loss: 0.944304 \tValidation Loss: 0.800117 \tValidation Accuracy: 74.200380\n",
      "Epoch: 165 \tTraining Loss: 0.945319 \tValidation Loss: 0.855845 \tValidation Accuracy: 74.205044\n",
      "Epoch: 166 \tTraining Loss: 0.943876 \tValidation Loss: 0.896114 \tValidation Accuracy: 74.211096\n",
      "Epoch: 167 \tTraining Loss: 0.919474 \tValidation Loss: 0.840434 \tValidation Accuracy: 74.221378\n",
      "Epoch: 168 \tTraining Loss: 0.948620 \tValidation Loss: 0.936812 \tValidation Accuracy: 74.217280\n",
      "Epoch: 169 \tTraining Loss: 0.930282 \tValidation Loss: 0.911792 \tValidation Accuracy: 74.224569\n",
      "Epoch: 170 \tTraining Loss: 0.910861 \tValidation Loss: 0.853065 \tValidation Accuracy: 74.232476\n",
      "Epoch: 171 \tTraining Loss: 0.947704 \tValidation Loss: 0.871225 \tValidation Accuracy: 74.241692\n",
      "Epoch: 172 \tTraining Loss: 0.912299 \tValidation Loss: 0.870394 \tValidation Accuracy: 74.246623\n",
      "Epoch: 173 \tTraining Loss: 0.927816 \tValidation Loss: 0.837104 \tValidation Accuracy: 74.259804\n",
      "Epoch: 174 \tTraining Loss: 0.922887 \tValidation Loss: 0.953049 \tValidation Accuracy: 74.250809\n",
      "Epoch: 175 \tTraining Loss: 0.917136 \tValidation Loss: 0.885836 \tValidation Accuracy: 74.249444\n",
      "Epoch: 176 \tTraining Loss: 0.933738 \tValidation Loss: 0.881380 \tValidation Accuracy: 74.249456\n",
      "Epoch: 177 \tTraining Loss: 0.895659 \tValidation Loss: 0.781877 \tValidation Accuracy: 74.262323\n",
      "Epoch: 178 \tTraining Loss: 0.901494 \tValidation Loss: 0.782590 \tValidation Accuracy: 74.273700\n",
      "Epoch: 179 \tTraining Loss: 0.959918 \tValidation Loss: 0.861145 \tValidation Accuracy: 74.282942\n",
      "Epoch: 180 \tTraining Loss: 0.881766 \tValidation Loss: 0.875878 \tValidation Accuracy: 74.281437\n",
      "Epoch: 181 \tTraining Loss: 0.879401 \tValidation Loss: 0.841445 \tValidation Accuracy: 74.291858\n",
      "Epoch: 182 \tTraining Loss: 0.895581 \tValidation Loss: 0.872405 \tValidation Accuracy: 74.294269\n",
      "Epoch: 183 \tTraining Loss: 0.922558 \tValidation Loss: 0.861642 \tValidation Accuracy: 74.289454\n",
      "Epoch: 184 \tTraining Loss: 0.901537 \tValidation Loss: 0.935880 \tValidation Accuracy: 74.283390\n",
      "Epoch: 185 \tTraining Loss: 0.869326 \tValidation Loss: 0.809489 \tValidation Accuracy: 74.289044\n",
      "Epoch: 186 \tTraining Loss: 0.865229 \tValidation Loss: 0.878388 \tValidation Accuracy: 74.295280\n",
      "Epoch: 187 \tTraining Loss: 0.912063 \tValidation Loss: 0.826799 \tValidation Accuracy: 74.296968\n",
      "Epoch: 188 \tTraining Loss: 0.904545 \tValidation Loss: 0.866770 \tValidation Accuracy: 74.312014\n",
      "Epoch: 189 \tTraining Loss: 0.892413 \tValidation Loss: 0.809744 \tValidation Accuracy: 74.329436\n",
      "Epoch: 190 \tTraining Loss: 0.885405 \tValidation Loss: 0.875728 \tValidation Accuracy: 74.334069\n",
      "Epoch: 191 \tTraining Loss: 0.885403 \tValidation Loss: 0.869741 \tValidation Accuracy: 74.342415\n",
      "Epoch: 192 \tTraining Loss: 0.899547 \tValidation Loss: 0.801121 \tValidation Accuracy: 74.358159\n",
      "Epoch: 193 \tTraining Loss: 0.871854 \tValidation Loss: 0.894483 \tValidation Accuracy: 74.356986\n",
      "Epoch: 194 \tTraining Loss: 0.882282 \tValidation Loss: 0.823136 \tValidation Accuracy: 74.368788\n",
      "Epoch: 195 \tTraining Loss: 0.885834 \tValidation Loss: 0.916837 \tValidation Accuracy: 74.371257\n",
      "Epoch: 196 \tTraining Loss: 0.886272 \tValidation Loss: 0.815705 \tValidation Accuracy: 74.374313\n",
      "Epoch: 197 \tTraining Loss: 0.829622 \tValidation Loss: 0.820222 \tValidation Accuracy: 74.390103\n",
      "Epoch: 198 \tTraining Loss: 0.874619 \tValidation Loss: 0.852219 \tValidation Accuracy: 74.394847\n",
      "Epoch: 199 \tTraining Loss: 0.871274 \tValidation Loss: 0.875762 \tValidation Accuracy: 74.400144\n",
      "Epoch: 200 \tTraining Loss: 0.882420 \tValidation Loss: 0.890313 \tValidation Accuracy: 74.395210\n"
     ]
    },
    {
     "data": {
      "text/plain": [
       "<All keys matched successfully>"
      ]
     },
     "execution_count": 5,
     "metadata": {
      "tags": []
     },
     "output_type": "execute_result"
    }
   ],
   "source": [
    "# the following import is required for training to be robust to truncated images\n",
    "import numpy as np\n",
    "from PIL import ImageFile\n",
    "ImageFile.LOAD_TRUNCATED_IMAGES = True\n",
    "\n",
    "def train(n_epochs, loaders, model, optimizer, criterion, use_cuda, save_path):\n",
    "    \"\"\"returns trained model\"\"\"\n",
    "    # initialize tracker for minimum validation loss\n",
    "    valid_loss_min = np.Inf \n",
    "    correct = 0.\n",
    "    total = 0.\n",
    "\n",
    "    for epoch in range(1, n_epochs+1):\n",
    "        # initialize variables to monitor training and validation loss\n",
    "        train_loss = 0.0\n",
    "        valid_loss = 0.0\n",
    "        \n",
    "        ###################\n",
    "        # train the model #\n",
    "        ###################\n",
    "        model.train()\n",
    "        for batch_idx, (data, target) in enumerate(loaders['train']):\n",
    "            # move to GPU\n",
    "            if use_cuda:\n",
    "                data, target = data.cuda(), target.cuda()\n",
    "            ## find the loss and update the model parameters accordingly\n",
    "            ## record the average training loss, using something like\n",
    "            ## train_loss = train_loss + ((1 / (batch_idx + 1)) * (loss.data - train_loss))\n",
    "            \n",
    "            # clear the gradients of all optimized variables\n",
    "            optimizer.zero_grad()\n",
    "            # forward pass: compute predicted outputs by passing inputs to the model\n",
    "            output = model(data)\n",
    "            # calculate the batch loss\n",
    "            loss = criterion(output, target)\n",
    "            # backward pass: compute gradient of the loss with respect to model parameters\n",
    "            loss.backward()\n",
    "            # perform a single optimization step (parameter update)\n",
    "            optimizer.step()\n",
    "            # update training loss\n",
    "            train_loss += ((1 / (batch_idx + 1)) * (loss.data - train_loss))\n",
    "\n",
    "            \n",
    "        ######################    \n",
    "        # validate the model #\n",
    "        ######################\n",
    "        model.eval()\n",
    "        for batch_idx, (data, target) in enumerate(loaders['valid']):\n",
    "            # move to GPU\n",
    "            if use_cuda:\n",
    "                data, target = data.cuda(), target.cuda()\n",
    "            ## update the average validation loss\n",
    "            \n",
    "            # forward pass: compute predicted outputs by passing inputs to the model\n",
    "            output = model(data)\n",
    "            # calculate the batch loss\n",
    "            loss = criterion(output, target)\n",
    "            # update average validation loss \n",
    "            valid_loss += ((1 / (batch_idx + 1)) * (loss.data - valid_loss))\n",
    "            # convert output probabilities to predicted class\n",
    "            pred = output.data.max(1, keepdim=True)[1]\n",
    "            # compare predictions to true label\n",
    "            correct += np.sum(np.squeeze(pred.eq(target.data.view_as(pred))).cpu().numpy())\n",
    "            total += data.size(0)\n",
    "\n",
    "\n",
    "        # print training/validation statistics \n",
    "        print('Epoch: {} \\tTraining Loss: {:.6f} \\tValidation Loss: {:.6f} \\tValidation Accuracy: {:02f}'.format(\n",
    "            epoch, \n",
    "            train_loss,\n",
    "            valid_loss,\n",
    "            100. * correct / total\n",
    "            ))\n",
    "        \n",
    "        ## TODO: save the model if validation loss has decreased\n",
    "        if valid_loss < valid_loss_min:      \n",
    "            torch.save(model.state_dict(), save_path)\n",
    "            valid_loss_min = valid_loss\n",
    "            \n",
    "    # return trained model\n",
    "    return model\n",
    "\n",
    "# train the model\n",
    "model_transfer = train(200, loaders_transfer, model_transfer, optimizer_transfer, criterion_transfer, use_cuda, '/content/drive/My Drive/Colab Notebooks/model_transfer.pt')\n",
    "\n",
    "# load the model that got the best validation accuracy (uncomment the line below)\n",
    "model_transfer.load_state_dict(torch.load('/content/drive/My Drive/Colab Notebooks/model_transfer.pt'))"
   ]
  },
  {
   "cell_type": "markdown",
   "metadata": {
    "colab_type": "text",
    "id": "Zp6dtVL4RKgj"
   },
   "source": [
    "### (IMPLEMENTATION) Test the Model\n",
    "\n",
    "Try out your model on the test dataset of dog images. Use the code cell below to calculate and print the test loss and accuracy.  Ensure that your test accuracy is greater than 60%."
   ]
  },
  {
   "cell_type": "code",
   "execution_count": 11,
   "metadata": {
    "colab": {
     "base_uri": "https://localhost:8080/",
     "height": 84
    },
    "colab_type": "code",
    "executionInfo": {
     "elapsed": 262992,
     "status": "ok",
     "timestamp": 1579810868201,
     "user": {
      "displayName": "Joanna Muras",
      "photoUrl": "",
      "userId": "08900016511846412259"
     },
     "user_tz": -60
    },
    "id": "c_SndKaNRKgk",
    "outputId": "56339962-3a59-4101-f6d2-971f222075f0"
   },
   "outputs": [
    {
     "name": "stdout",
     "output_type": "stream",
     "text": [
      "Test Loss: 0.835999\n",
      "\n",
      "\n",
      "Test Accuracy: 77% (650/836)\n"
     ]
    }
   ],
   "source": [
    "def test(loaders, model, criterion, use_cuda):\n",
    "\n",
    "    # monitor test loss and accuracy\n",
    "    test_loss = 0.\n",
    "    correct = 0.\n",
    "    total = 0.\n",
    "\n",
    "    model.eval()\n",
    "    for batch_idx, (data, target) in enumerate(loaders['test']):\n",
    "        # move to GPU\n",
    "        if use_cuda:\n",
    "            data, target = data.cuda(), target.cuda()\n",
    "        # forward pass: compute predicted outputs by passing inputs to the model\n",
    "        output = model(data)\n",
    "        # calculate the loss\n",
    "        loss = criterion(output, target)\n",
    "        # update average test loss \n",
    "        test_loss = test_loss + ((1 / (batch_idx + 1)) * (loss.data - test_loss))\n",
    "        # convert output probabilities to predicted class\n",
    "        pred = output.data.max(1, keepdim=True)[1]\n",
    "        # compare predictions to true label\n",
    "        correct += np.sum(np.squeeze(pred.eq(target.data.view_as(pred))).cpu().numpy())\n",
    "        total += data.size(0)\n",
    "            \n",
    "    print('Test Loss: {:.6f}\\n'.format(test_loss))\n",
    "\n",
    "    print('\\nTest Accuracy: %2d%% (%2d/%2d)' % (\n",
    "        100. * correct / total, correct, total))\n",
    "\n",
    "test(loaders_transfer, model_transfer, criterion_transfer, use_cuda)"
   ]
  },
  {
   "cell_type": "markdown",
   "metadata": {
    "colab_type": "text",
    "id": "fQXwHAp0RKgq"
   },
   "source": [
    "### (IMPLEMENTATION) Predict Dog Breed with the Model\n",
    "\n",
    "Write a function that takes an image path as input and returns the dog breed (`Affenpinscher`, `Afghan hound`, etc) that is predicted by your model.  "
   ]
  },
  {
   "cell_type": "code",
   "execution_count": 0,
   "metadata": {
    "colab": {},
    "colab_type": "code",
    "id": "wKSoLHreRKgr"
   },
   "outputs": [],
   "source": [
    "### TODO: Write a function that takes a path to an image as input\n",
    "### and returns the dog breed that is predicted by the model.\n",
    "\n",
    "from PIL import Image\n",
    "import torchvision.transforms as transforms\n",
    "from torch.autograd import Variable\n",
    "\n",
    "# Set PIL to be tolerant of image files that are truncated.\n",
    "from PIL import ImageFile\n",
    "ImageFile.LOAD_TRUNCATED_IMAGES = True\n",
    "\n",
    "# list of class names by index, i.e. a name can be accessed like class_names[0]\n",
    "class_names = [item[4:].replace(\"_\", \" \") for item in data_transfer['train'].classes]\n",
    "\n",
    "def predict_breed_transfer(img_path):\n",
    "    # load the image and return the predicted breed\n",
    "\n",
    "    image = Image.open(img_path)\n",
    "    transform = transforms.Compose([\n",
    "        transforms.ToTensor(),\n",
    "        transforms.Normalize(mean=[0.485, 0.456, 0.406], std=[0.229, 0.224, 0.225])\n",
    "        \n",
    "    ])\n",
    "\n",
    "    image = transform(image)\n",
    "    image = image.unsqueeze(0)\n",
    "    if use_cuda:\n",
    "        image = image.cuda()\n",
    "    prediction = model_transfer(image)\n",
    "    prediction_class = np.argmax(prediction.cpu().detach().numpy()) # predicted class index\n",
    "\n",
    "    return class_names[prediction_class]"
   ]
  },
  {
   "cell_type": "markdown",
   "metadata": {
    "colab_type": "text",
    "id": "t-EmMiLyRKgu"
   },
   "source": [
    "---\n",
    "<a id='step5'></a>\n",
    "## Step 5: Write your Algorithm\n",
    "\n",
    "Write an algorithm that accepts a file path to an image and first determines whether the image contains a human, dog, or neither.  Then,\n",
    "- if a __dog__ is detected in the image, return the predicted breed.\n",
    "- if a __human__ is detected in the image, return the resembling dog breed.\n",
    "- if __neither__ is detected in the image, provide output that indicates an error.\n",
    "\n",
    "You are welcome to write your own functions for detecting humans and dogs in images, but feel free to use the `face_detector` and `dog_detector` functions developed above.  You are __required__ to use your CNN from Step 4 to predict dog breed.  \n",
    "\n",
    "Some sample output for our algorithm is provided below, but feel free to design your own user experience!\n",
    "\n",
    "![Sample Human Output](images/sample_human_output.png)\n",
    "\n",
    "\n",
    "### (IMPLEMENTATION) Write your Algorithm"
   ]
  },
  {
   "cell_type": "code",
   "execution_count": 0,
   "metadata": {
    "colab": {},
    "colab_type": "code",
    "id": "DaaNBlvURKgv"
   },
   "outputs": [],
   "source": [
    "### TODO: Write your algorithm.\n",
    "### Feel free to use as many code cells as needed.\n",
    "\n",
    "def run_app(img_path):\n",
    "    ## handle cases for a human face, dog, and neither\n",
    "\n",
    "    isFace = face_detector(img_path)\n",
    "    isDog = dog_detector(img_path)\n",
    "    if isDog or isFace: \n",
    "      breed = predict_breed_transfer(img_path)\n",
    "      return breed\n",
    "    else:\n",
    "      return 'None'\n",
    "  "
   ]
  },
  {
   "cell_type": "markdown",
   "metadata": {
    "colab_type": "text",
    "id": "RYosGFeZRKgy"
   },
   "source": [
    "---\n",
    "<a id='step6'></a>\n",
    "## Step 6: Test Your Algorithm\n",
    "\n",
    "In this section, you will take your new algorithm for a spin!  What kind of dog does the algorithm think that _you_ look like?  If you have a dog, does it predict your dog's breed accurately?  If you have a cat, does it mistakenly think that your cat is a dog?\n",
    "\n",
    "### (IMPLEMENTATION) Test Your Algorithm on Sample Images!\n",
    "\n",
    "Test your algorithm at least six images on your computer.  Feel free to use any images you like.  Use at least two human and two dog images.  \n",
    "\n",
    "__Question 6:__ Is the output better than you expected :) ?  Or worse :( ?  Provide at least three possible points of improvement for your algorithm."
   ]
  },
  {
   "cell_type": "markdown",
   "metadata": {
    "colab_type": "text",
    "id": "4KVyMiqNRKgz"
   },
   "source": [
    "__Answer:__ \n",
    "I tested network on some cats, dogs, and human images. The network did not detect cats neither as dogs nor as human, which is very good result. On the other hand dog breeds were not recognized correctly and humans were not really similar to detected dog's breed.\n",
    "To improve algorightm we could try the following:\n",
    "- increase number of samples used for learning the network\n",
    "- increase number of features (convolutional layer) detected by the network\n",
    "- add additional fully connected layer"
   ]
  },
  {
   "cell_type": "code",
   "execution_count": 65,
   "metadata": {
    "colab": {
     "base_uri": "https://localhost:8080/",
     "height": 67
    },
    "colab_type": "code",
    "executionInfo": {
     "elapsed": 2205,
     "status": "ok",
     "timestamp": 1579817721921,
     "user": {
      "displayName": "Joanna Muras",
      "photoUrl": "",
      "userId": "08900016511846412259"
     },
     "user_tz": -60
    },
    "id": "MtPff6bfbqOp",
    "outputId": "e4d17f9f-7343-4374-d5bc-74e118d0b0c7"
   },
   "outputs": [
    {
     "name": "stdout",
     "output_type": "stream",
     "text": [
      "There are 4 total cat images.\n",
      "There are 4 total human images.\n",
      "There are 4 total dog images.\n"
     ]
    }
   ],
   "source": [
    "import numpy as np\n",
    "from glob import glob\n",
    "\n",
    "# load filenames for human and dog images\n",
    "cat_files = np.array(glob(\"/content/drive/My Drive/Colab Notebooks/data/cats/*\"))\n",
    "human_files = np.array(glob(\"/content/drive/My Drive/Colab Notebooks/data/humans/*\"))\n",
    "dog_files = np.array(glob(\"/content/drive/My Drive/Colab Notebooks/data/dogs/*\"))\n",
    "\n",
    "# print number of images in each dataset\n",
    "print('There are %d total cat images.' % len(cat_files))\n",
    "print('There are %d total human images.' % len(human_files))\n",
    "print('There are %d total dog images.' % len(dog_files))"
   ]
  },
  {
   "cell_type": "code",
   "execution_count": 66,
   "metadata": {
    "colab": {
     "base_uri": "https://localhost:8080/",
     "height": 218
    },
    "colab_type": "code",
    "executionInfo": {
     "elapsed": 6747,
     "status": "ok",
     "timestamp": 1579817732109,
     "user": {
      "displayName": "Joanna Muras",
      "photoUrl": "",
      "userId": "08900016511846412259"
     },
     "user_tz": -60
    },
    "id": "2gAPFS6MRKg0",
    "outputId": "55f49690-3bee-4aac-e894-eb201e920452"
   },
   "outputs": [
    {
     "name": "stdout",
     "output_type": "stream",
     "text": [
      "Detected breed is: None\n",
      "Detected breed is: None\n",
      "Detected breed is: None\n",
      "Detected breed is: None\n",
      "Detected breed is: Norwegian elkhound\n",
      "Detected breed is: Belgian tervuren\n",
      "Detected breed is: Canaan dog\n",
      "Detected breed is: Belgian malinois\n",
      "Detected breed is: American eskimo dog\n",
      "Detected breed is: Basset hound\n",
      "Detected breed is: Boxer\n",
      "Detected breed is: American water spaniel\n"
     ]
    }
   ],
   "source": [
    "## TODO: Execute your algorithm from Step 6 on\n",
    "## at least 6 images on your computer.\n",
    "## Feel free to use as many code cells as needed.\n",
    "\n",
    "## suggested code, below\n",
    "for file in np.hstack((cat_files, human_files, dog_files)):\n",
    "    result = run_app(file)\n",
    "    print(\"Detected breed is: {0}\".format(result))"
   ]
  }
 ],
 "metadata": {
  "accelerator": "GPU",
  "anaconda-cloud": {},
  "colab": {
   "collapsed_sections": [],
   "name": "dog_app.ipynb",
   "provenance": []
  },
  "kernelspec": {
   "display_name": "Python 3",
   "language": "python",
   "name": "python3"
  },
  "language_info": {
   "codemirror_mode": {
    "name": "ipython",
    "version": 3
   },
   "file_extension": ".py",
   "mimetype": "text/x-python",
   "name": "python",
   "nbconvert_exporter": "python",
   "pygments_lexer": "ipython3",
   "version": "3.6.3"
  }
 },
 "nbformat": 4,
 "nbformat_minor": 1
}
